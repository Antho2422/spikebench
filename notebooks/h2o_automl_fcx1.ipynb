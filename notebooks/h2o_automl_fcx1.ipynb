{
 "cells": [
  {
   "cell_type": "code",
   "execution_count": null,
   "metadata": {},
   "outputs": [],
   "source": [
    "import pylab as p\n",
    "import numpy as np\n",
    "import pandas as pd\n",
    "import seaborn as sns\n",
    "import pyspikelib.utils as spkutil\n",
    "import pyspikelib.mpladeq as mpladeq\n",
    "\n",
    "from pathlib import Path\n",
    "\n",
    "sns.set(font_scale=1.7, style='ticks')\n",
    "mpladeq.beautify_mpl()"
   ]
  },
  {
   "cell_type": "code",
   "execution_count": null,
   "metadata": {},
   "outputs": [],
   "source": [
    "from sklearn.ensemble import RandomForestClassifier\n",
    "from sklearn.metrics import accuracy_score"
   ]
  },
  {
   "cell_type": "code",
   "execution_count": null,
   "metadata": {},
   "outputs": [],
   "source": [
    "np.random.seed(15)"
   ]
  },
  {
   "cell_type": "code",
   "execution_count": null,
   "metadata": {},
   "outputs": [],
   "source": [
    "datapath = Path('../data')\n",
    "\n",
    "wake_data = spkutil.load_parquet(datapath / 'wake.parq')\n",
    "sleep_data = spkutil.load_parquet(datapath / 'sleep.parq')"
   ]
  },
  {
   "cell_type": "code",
   "execution_count": null,
   "metadata": {},
   "outputs": [],
   "source": [
    "data = {}\n",
    "\n",
    "data['wake_train'], data['wake_test'] = spkutil.split_by_spikes(wake_data, ratio=0.5)\n",
    "data['sleep_train'], data['sleep_test'] = spkutil.split_by_spikes(sleep_data, ratio=0.5)"
   ]
  },
  {
   "cell_type": "code",
   "execution_count": null,
   "metadata": {},
   "outputs": [],
   "source": [
    "p.plot(data['wake_train']['series'][5][:1000])\n",
    "\n",
    "mpladeq.prettify()\n",
    "p.xlabel('ISI # in the spike train')\n",
    "p.ylabel('ISI value, ms')"
   ]
  },
  {
   "cell_type": "code",
   "execution_count": null,
   "metadata": {},
   "outputs": [],
   "source": [
    "window_size = 100\n",
    "step_size = 100\n",
    "total_samples = 5000\n",
    "\n",
    "crop_data = {}\n",
    "for key in data:\n",
    "    crop_data[key] = spkutil.crop_isi_samples(data[key],\n",
    "                                              window_size=window_size,\n",
    "                                              step_size=step_size,\n",
    "                                              total_samples=total_samples)"
   ]
  },
  {
   "cell_type": "code",
   "execution_count": null,
   "metadata": {},
   "outputs": [],
   "source": [
    "[(key, crop_data[key]['series'].shape) for key in crop_data]"
   ]
  },
  {
   "cell_type": "code",
   "execution_count": null,
   "metadata": {},
   "outputs": [],
   "source": [
    "tsdata = {}\n",
    "for key in data:\n",
    "    tsdata[key] = spkutil.tsfresh_vectorize(crop_data[key]['series'],\n",
    "                                            feature_dict='distribution_features',\n",
    "                                            n_jobs=24)"
   ]
  },
  {
   "cell_type": "code",
   "execution_count": null,
   "metadata": {},
   "outputs": [],
   "source": [
    "tsdata['wake_train'].head(10)"
   ]
  },
  {
   "cell_type": "code",
   "execution_count": null,
   "metadata": {},
   "outputs": [],
   "source": [
    "samples = 4500\n",
    "indices = np.random.choice(total_samples, samples)\n",
    "\n",
    "X_train = pd.concat([tsdata['wake_train'].iloc[indices, :], tsdata['sleep_train'].iloc[indices, :]])\n",
    "y_train = np.array([0] * indices.shape[0] + [1] * indices.shape[0])\n",
    "\n",
    "X_test = pd.concat([tsdata['wake_test'].iloc[indices, :], tsdata['sleep_test'].iloc[indices, :]])\n",
    "y_test = np.array([0] * indices.shape[0] + [1] * indices.shape[0])"
   ]
  },
  {
   "cell_type": "code",
   "execution_count": null,
   "metadata": {},
   "outputs": [],
   "source": [
    "X_train, scaler = spkutil.preprocess_tsfresh_features(X_train,\n",
    "                                                      remove_low_variance=True)\n",
    "\n",
    "X_test, _ = spkutil.preprocess_tsfresh_features(X_test,\n",
    "                                                scaler=scaler,\n",
    "                                                remove_low_variance=True)\n",
    "\n",
    "X_train, X_test = spkutil.train_test_common_features(X_train, X_test)"
   ]
  },
  {
   "cell_type": "code",
   "execution_count": null,
   "metadata": {},
   "outputs": [],
   "source": [
    "embed_features = X_train.columns.values"
   ]
  },
  {
   "cell_type": "code",
   "execution_count": null,
   "metadata": {},
   "outputs": [],
   "source": [
    "import h2o\n",
    "from h2o.automl import H2OAutoML\n",
    "\n",
    "h2o.init(nthreads=-1, max_mem_size=12)"
   ]
  },
  {
   "cell_type": "code",
   "execution_count": null,
   "metadata": {},
   "outputs": [],
   "source": [
    "X_y_train_h = h2o.H2OFrame(pd.concat([X_train.reset_index(drop=True), \n",
    "           pd.Series(y_train, name='target')], axis='columns'))"
   ]
  },
  {
   "cell_type": "code",
   "execution_count": null,
   "metadata": {},
   "outputs": [],
   "source": [
    "X_y_train_h['target'] = X_y_train_h['target'].asfactor()"
   ]
  },
  {
   "cell_type": "code",
   "execution_count": null,
   "metadata": {},
   "outputs": [],
   "source": [
    "X_test_h = h2o.H2OFrame(X_test.reset_index(drop=True))\n",
    "\n",
    "X_y_train_h.describe()"
   ]
  },
  {
   "cell_type": "code",
   "execution_count": null,
   "metadata": {},
   "outputs": [],
   "source": [
    "aml = H2OAutoML(max_runtime_secs=60,\n",
    "                max_models=None,\n",
    "                seed=42)"
   ]
  },
  {
   "cell_type": "code",
   "execution_count": null,
   "metadata": {},
   "outputs": [],
   "source": [
    "aml.train(x=list(embed_features),\n",
    "          y='target',\n",
    "          training_frame=X_y_train_h)\n",
    "\n",
    "lb = aml.leaderboard\n",
    "model_ids = list(lb['model_id'].as_data_frame().iloc[:, 0])\n",
    "out_path = \".\"\n",
    "\n",
    "for m_id in model_ids:\n",
    "    mdl = h2o.get_model(m_id)\n",
    "    h2o.save_model(model=mdl, path=out_path, force=True)\n",
    "\n",
    "h2o.export_file(lb, os.path.join(out_path, 'aml_leaderboard.h2o'), force=True)"
   ]
  },
  {
   "cell_type": "code",
   "execution_count": null,
   "metadata": {},
   "outputs": [],
   "source": []
  }
 ],
 "metadata": {
  "kernelspec": {
   "display_name": "Python 3",
   "language": "python",
   "name": "python3"
  },
  "language_info": {
   "codemirror_mode": {
    "name": "ipython",
    "version": 3
   },
   "file_extension": ".py",
   "mimetype": "text/x-python",
   "name": "python",
   "nbconvert_exporter": "python",
   "pygments_lexer": "ipython3",
   "version": "3.7.3"
  }
 },
 "nbformat": 4,
 "nbformat_minor": 2
}
