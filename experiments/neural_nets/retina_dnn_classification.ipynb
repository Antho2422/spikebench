{
 "metadata": {
  "language_info": {
   "codemirror_mode": {
    "name": "ipython",
    "version": 3
   },
   "file_extension": ".py",
   "mimetype": "text/x-python",
   "name": "python",
   "nbconvert_exporter": "python",
   "pygments_lexer": "ipython3",
   "version": "3.7.3-final"
  },
  "orig_nbformat": 2,
  "kernelspec": {
   "name": "tsgen-env",
   "display_name": "tsgen-env",
   "language": "python"
  }
 },
 "nbformat": 4,
 "nbformat_minor": 2,
 "cells": [
  {
   "cell_type": "code",
   "execution_count": 1,
   "metadata": {},
   "outputs": [],
   "source": [
    "import sys\n",
    "from pathlib import Path\n",
    "from addict import Dict\n",
    "\n",
    "sys.path.append('../../')\n",
    "sys.path.append('/disk/neuro/sktime-dl')"
   ]
  },
  {
   "cell_type": "code",
   "execution_count": 2,
   "metadata": {},
   "outputs": [],
   "source": [
    "import numpy as np\n",
    "import pandas as pd\n",
    "import pylab as plt\n",
    "import seaborn as sns\n",
    "import plotly.express as px\n",
    "\n",
    "from sklearn.metrics import accuracy_score, roc_auc_score\n",
    "from sklearn.model_selection import GroupShuffleSplit\n",
    "from sklearn.ensemble import RandomForestClassifier\n",
    "\n",
    "from examples.utils.config import Config\n",
    "from examples.utils.dataset_adapters import retina_dataset\n",
    "from pyspikelib import TrainNormalizeTransform\n",
    "from pyspikelib.utils import simple_undersampling\n",
    "from pyspikelib.mpladeq import prettify, beautify_mpl, boxplot\n",
    "\n",
    "import tensorflow as tf\n",
    "import tensorflow.keras as keras\n",
    "\n",
    "tf.random.Generator = None \n",
    "\n",
    "import sktime_dl\n",
    "from sktime_dl.deeplearning import CNNClassifier\n",
    "\n",
    "beautify_mpl()"
   ]
  },
  {
   "cell_type": "code",
   "execution_count": 3,
   "metadata": {},
   "outputs": [],
   "source": [
    "config_dict = {\n",
    "    'seed': 0,\n",
    "    'window': 50,\n",
    "    'step': 50,\n",
    "    'train_subsample_factor': 0.7,\n",
    "    'test_subsample_factor': 0.7,\n",
    "    'delimiter': None,\n",
    "    'dataset': '../../data/retina/mode_paper_data',\n",
    "    'fstate': 'randomly_moving_bar',\n",
    "    'mstate': 'white_noise_checkerboard',\n",
    "}\n",
    "\n",
    "config = Config(config_dict)\n",
    "np.random.seed(config.seed)"
   ]
  },
  {
   "cell_type": "code",
   "execution_count": 4,
   "metadata": {},
   "outputs": [],
   "source": [
    "retinal_spike_data = retina_dataset(config.dataset)"
   ]
  },
  {
   "cell_type": "code",
   "execution_count": 5,
   "metadata": {},
   "outputs": [],
   "source": [
    "group_split = GroupShuffleSplit(n_splits=1, test_size=0.5)\n",
    "X = np.hstack(\n",
    "    [\n",
    "        retinal_spike_data[config.fstate].series.values,\n",
    "        retinal_spike_data[config.mstate].series.values,\n",
    "    ]\n",
    ")\n",
    "y = np.hstack(\n",
    "    [\n",
    "        np.ones(retinal_spike_data[config.fstate].shape[0]),\n",
    "        np.zeros(retinal_spike_data[config.mstate].shape[0]),\n",
    "    ]\n",
    ")\n",
    "groups = np.hstack(\n",
    "    [\n",
    "        retinal_spike_data[config.fstate].groups.values,\n",
    "        retinal_spike_data[config.mstate].groups.values,\n",
    "    ]\n",
    ")"
   ]
  },
  {
   "cell_type": "code",
   "execution_count": 6,
   "metadata": {},
   "outputs": [],
   "source": [
    "for train_index, test_index in group_split.split(X, y, groups):\n",
    "    X_train, X_test = X[train_index], X[test_index]\n",
    "    y_train, y_test = y[train_index], y[test_index]\n",
    "\n",
    "X_train = pd.DataFrame({'series': X_train, 'groups': groups[train_index]})\n",
    "X_test = pd.DataFrame({'series': X_test, 'groups': groups[test_index]})"
   ]
  },
  {
   "cell_type": "code",
   "execution_count": 7,
   "metadata": {},
   "outputs": [],
   "source": [
    "normalizer = TrainNormalizeTransform(\n",
    "    window=config.window, \n",
    "    step=config.step, \n",
    "    n_samples=None\n",
    ")\n",
    "X_train, y_train = normalizer.transform(X_train, y_train, delimiter=config.delimiter)\n",
    "X_test, y_test = normalizer.transform(X_test, y_test, delimiter=config.delimiter)"
   ]
  },
  {
   "cell_type": "code",
   "execution_count": 8,
   "metadata": {},
   "outputs": [
    {
     "output_type": "stream",
     "name": "stdout",
     "text": [
      "Dataset size: train (23187, 50), test (23908, 50)\nAverage target: train 0.7639194376159054, test 0.7755144721432157\n"
     ]
    }
   ],
   "source": [
    "print('Dataset size: train {}, test {}'.format(X_train.shape, X_test.shape))\n",
    "print('Average target: train {}, test {}'.format(y_train.mean(), y_test.mean()))"
   ]
  },
  {
   "cell_type": "code",
   "execution_count": 9,
   "metadata": {},
   "outputs": [],
   "source": [
    "import tensorflow.keras as keras\n",
    "import matplotlib.pyplot as plt\n",
    "from IPython.display import clear_output\n",
    "import plotly.graph_objects as go\n",
    "\n",
    "\n",
    "class PlotLearning(keras.callbacks.Callback):\n",
    "    \n",
    "    def __init__(self, *args, update_freq=1, **kwargs):\n",
    "        super().__init__(*args, **kwargs)\n",
    "        self.update_freq = update_freq\n",
    "        self.loss_log_freq = 10\n",
    "    \n",
    "    def on_train_begin(self, logs={}):\n",
    "        self.i = 0\n",
    "        self.x = []\n",
    "        self.losses = []\n",
    "        self.val_losses = []\n",
    "        self.acc = []\n",
    "        self.val_acc = []\n",
    "        self.fig = plt.figure()\n",
    "        \n",
    "        self.logs = []\n",
    "\n",
    "    def on_epoch_end(self, epoch, logs={}):\n",
    "        \n",
    "        self.i += 1\n",
    "        \n",
    "        if (self.i % self.loss_log_freq) == 0:\n",
    "            self.logs.append(logs)\n",
    "            self.x.append(self.i)\n",
    "            self.losses.append(logs.get('loss'))\n",
    "            self.val_losses.append(logs.get('val_loss'))\n",
    "            self.acc.append(logs.get('accuracy'))\n",
    "            self.val_acc.append(logs.get('val_accuracy'))\n",
    "        \n",
    "        if (self.i % self.update_freq) == 0:\n",
    "            clear_output(wait=True)\n",
    "\n",
    "            df = pd.DataFrame({'epoch': self.x + self.x, \n",
    "                               'loss': self.losses + self.val_losses,\n",
    "                               'dataset': ['train'] * len(self.losses) + ['val'] * len(self.val_losses)})\n",
    "            fig = px.line(df, x='epoch', \n",
    "                          y='loss', title='loss',\n",
    "                          color='dataset',\n",
    "                          height=400, width=800)\n",
    "\n",
    "            df2 = pd.DataFrame({'epoch': self.x + self.x, \n",
    "                                'accuracy': self.acc + self.val_acc,\n",
    "                                'dataset': ['train'] * len(self.acc) + ['val'] * len(self.val_acc)})\n",
    "            fig2 = px.line(df2, x='epoch', \n",
    "                           y='accuracy', title='accuracy',\n",
    "                           color='dataset',\n",
    "                           height=400, width=800)\n",
    "            fig.show()\n",
    "            fig2.show()"
   ]
  },
  {
   "cell_type": "code",
   "execution_count": 10,
   "metadata": {},
   "outputs": [
    {
     "output_type": "execute_result",
     "data": {
      "text/plain": [
       "((9853, 50), (9660, 50), 0.49781792347508375, 0.4997929606625259)"
      ]
     },
     "metadata": {},
     "execution_count": 10
    }
   ],
   "source": [
    "from pyspikelib.utils import simple_undersampling\n",
    "\n",
    "Xs_train, ys_train = simple_undersampling(\n",
    "    pd.DataFrame(X_train), y_train, subsample_size=0.9\n",
    ")\n",
    "Xs_test, ys_test = simple_undersampling(\n",
    "    pd.DataFrame(X_test), y_test, subsample_size=0.9\n",
    ")\n",
    "\n",
    "Xs_train.shape, Xs_test.shape, ys_train.mean(), ys_test.mean()"
   ]
  },
  {
   "cell_type": "code",
   "execution_count": 11,
   "metadata": {},
   "outputs": [
    {
     "output_type": "execute_result",
     "data": {
      "text/plain": [
       "RandomForestClassifier(max_depth=5, n_jobs=-1)"
      ]
     },
     "metadata": {},
     "execution_count": 11
    }
   ],
   "source": [
    "baseline_forest = RandomForestClassifier(n_estimators=100, max_depth=5, n_jobs=-1)\n",
    "baseline_forest.fit(Xs_train, ys_train)"
   ]
  },
  {
   "cell_type": "code",
   "execution_count": 12,
   "metadata": {},
   "outputs": [
    {
     "output_type": "execute_result",
     "data": {
      "text/plain": [
       "(0.6875776397515528, 0.8242741105279907)"
      ]
     },
     "metadata": {},
     "execution_count": 12
    }
   ],
   "source": [
    "accuracy_score(ys_test, baseline_forest.predict(Xs_test)), \\\r\n",
    "roc_auc_score(ys_test, baseline_forest.predict_proba(Xs_test)[:, 1])"
   ]
  },
  {
   "cell_type": "code",
   "execution_count": 14,
   "metadata": {},
   "outputs": [
    {
     "output_type": "display_data",
     "data": {
      "application/vnd.plotly.v1+json": {
       "config": {
        "plotlyServerURL": "https://plot.ly"
       },
       "data": [
        {
         "hovertemplate": "dataset=train<br>epoch=%{x}<br>loss=%{y}<extra></extra>",
         "legendgroup": "train",
         "line": {
          "color": "#636efa",
          "dash": "solid"
         },
         "mode": "lines",
         "name": "train",
         "orientation": "v",
         "showlegend": true,
         "type": "scatter",
         "x": [
          10,
          20,
          30,
          40,
          50,
          60,
          70,
          80,
          90,
          100,
          110,
          120,
          130,
          140,
          150,
          160,
          170,
          180,
          190,
          200,
          210,
          220,
          230,
          240,
          250,
          260,
          270,
          280,
          290,
          300,
          310,
          320,
          330,
          340,
          350,
          360,
          370,
          380,
          390,
          400,
          410,
          420,
          430,
          440,
          450,
          460,
          470,
          480,
          490,
          500,
          510,
          520,
          530,
          540,
          550,
          560,
          570,
          580,
          590,
          600,
          610,
          620,
          630,
          640,
          650,
          660,
          670,
          680,
          690,
          700,
          710,
          720,
          730,
          740,
          750,
          760,
          770,
          780,
          790,
          800,
          810,
          820,
          830,
          840,
          850,
          860,
          870,
          880,
          890,
          900,
          910,
          920,
          930,
          940,
          950,
          960,
          970,
          980,
          990,
          1000
         ],
         "xaxis": "x",
         "y": [
          0.6873364448547363,
          0.6726074814796448,
          0.6453044414520264,
          0.6125235557556152,
          0.5836082696914673,
          0.5701555013656616,
          0.5663005709648132,
          0.568702757358551,
          0.5586951375007629,
          0.559653639793396,
          0.5536466836929321,
          0.5597378015518188,
          0.5540729761123657,
          0.5507146716117859,
          0.5466681122779846,
          0.54700767993927,
          0.5466890931129456,
          0.5410134792327881,
          0.5396267771720886,
          0.5395839810371399,
          0.5449514389038086,
          0.5395922660827637,
          0.5391245484352112,
          0.5421876311302185,
          0.5379103422164917,
          0.536148726940155,
          0.5322006344795227,
          0.5291350483894348,
          0.52841717004776,
          0.527336061000824,
          0.5316120386123657,
          0.5257619619369507,
          0.5263115167617798,
          0.5233522653579712,
          0.5207176804542542,
          0.5287914872169495,
          0.5249871015548706,
          0.5210236310958862,
          0.5149703025817871,
          0.5130139589309692,
          0.5133377909660339,
          0.5135242938995361,
          0.5097514390945435,
          0.5089808702468872,
          0.5072307586669922,
          0.5070999264717102,
          0.5081858038902283,
          0.500713586807251,
          0.5010544657707214,
          0.5082693099975586,
          0.5044665336608887,
          0.506859302520752,
          0.501882791519165,
          0.5071796774864197,
          0.500824511051178,
          0.4980606436729431,
          0.5094687938690186,
          0.5002840161323547,
          0.49036917090415955,
          0.49504363536834717,
          0.48994743824005127,
          0.4968316853046417,
          0.49068865180015564,
          0.49083906412124634,
          0.4886793792247772,
          0.48644864559173584,
          0.4877496063709259,
          0.48442697525024414,
          0.4833858013153076,
          0.4846867620944977,
          0.48365315794944763,
          0.4850311279296875,
          0.4850910007953644,
          0.4794274568557739,
          0.48161470890045166,
          0.4832937717437744,
          0.4887562096118927,
          0.4810483753681183,
          0.483864426612854,
          0.48181578516960144,
          0.47896838188171387,
          0.4700353145599365,
          0.4784434735774994,
          0.4715368151664734,
          0.4679275155067444,
          0.467942476272583,
          0.46804723143577576,
          0.46482041478157043,
          0.4626539349555969,
          0.4641328752040863,
          0.4632891118526459,
          0.4779907166957855,
          0.4621507525444031,
          0.4613910913467407,
          0.4576326608657837,
          0.4568064212799072,
          0.45922908186912537,
          0.45450907945632935,
          0.46090906858444214,
          0.45545682311058044
         ],
         "yaxis": "y"
        },
        {
         "hovertemplate": "dataset=val<br>epoch=%{x}<br>loss=%{y}<extra></extra>",
         "legendgroup": "val",
         "line": {
          "color": "#EF553B",
          "dash": "solid"
         },
         "mode": "lines",
         "name": "val",
         "orientation": "v",
         "showlegend": true,
         "type": "scatter",
         "x": [
          10,
          20,
          30,
          40,
          50,
          60,
          70,
          80,
          90,
          100,
          110,
          120,
          130,
          140,
          150,
          160,
          170,
          180,
          190,
          200,
          210,
          220,
          230,
          240,
          250,
          260,
          270,
          280,
          290,
          300,
          310,
          320,
          330,
          340,
          350,
          360,
          370,
          380,
          390,
          400,
          410,
          420,
          430,
          440,
          450,
          460,
          470,
          480,
          490,
          500,
          510,
          520,
          530,
          540,
          550,
          560,
          570,
          580,
          590,
          600,
          610,
          620,
          630,
          640,
          650,
          660,
          670,
          680,
          690,
          700,
          710,
          720,
          730,
          740,
          750,
          760,
          770,
          780,
          790,
          800,
          810,
          820,
          830,
          840,
          850,
          860,
          870,
          880,
          890,
          900,
          910,
          920,
          930,
          940,
          950,
          960,
          970,
          980,
          990,
          1000
         ],
         "xaxis": "x",
         "y": [
          0.6787300705909729,
          0.6502188444137573,
          0.6140875816345215,
          0.5762689709663391,
          0.5446364879608154,
          0.5632714629173279,
          0.5588417053222656,
          0.5714099407196045,
          0.5266821980476379,
          0.5267860889434814,
          0.5433204770088196,
          0.5722338557243347,
          0.5562652945518494,
          0.5442667603492737,
          0.5283231139183044,
          0.5376877188682556,
          0.5509219169616699,
          0.5248902440071106,
          0.5428435802459717,
          0.5285080671310425,
          0.5230763554573059,
          0.5368242263793945,
          0.541109025478363,
          0.5342797636985779,
          0.5159381628036499,
          0.5309603810310364,
          0.5350360870361328,
          0.5465624928474426,
          0.5258749723434448,
          0.5302491188049316,
          0.5383211374282837,
          0.5171994566917419,
          0.5331690907478333,
          0.5316954255104065,
          0.5403414964675903,
          0.5373674035072327,
          0.543589174747467,
          0.5292680859565735,
          0.5238974690437317,
          0.516857922077179,
          0.5248945355415344,
          0.5325725674629211,
          0.5187828540802002,
          0.5151453018188477,
          0.5035071969032288,
          0.509330153465271,
          0.502319872379303,
          0.5015721321105957,
          0.48914599418640137,
          0.4996436536312103,
          0.5102068185806274,
          0.5022995471954346,
          0.501132607460022,
          0.511863648891449,
          0.5142984390258789,
          0.5045726299285889,
          0.489793598651886,
          0.5085830688476562,
          0.5247533321380615,
          0.5011324882507324,
          0.497685968875885,
          0.49474844336509705,
          0.5007036328315735,
          0.4884951114654541,
          0.5046827793121338,
          0.49953460693359375,
          0.5054775476455688,
          0.49848535656929016,
          0.5042810440063477,
          0.5055950880050659,
          0.5014709830284119,
          0.5012802481651306,
          0.4982159435749054,
          0.5142205357551575,
          0.49474987387657166,
          0.5029542446136475,
          0.5014234781265259,
          0.5092808604240417,
          0.5057514309883118,
          0.5163856148719788,
          0.5016179084777832,
          0.5057699680328369,
          0.5304033756256104,
          0.500605046749115,
          0.5179462432861328,
          0.4993760585784912,
          0.5281092524528503,
          0.5111571550369263,
          0.49719029664993286,
          0.5152957439422607,
          0.49748852849006653,
          0.5174713134765625,
          0.49891313910484314,
          0.507768988609314,
          0.5112941861152649,
          0.4959988296031952,
          0.5114942193031311,
          0.5360027551651001,
          0.5105456709861755,
          0.5231876969337463
         ],
         "yaxis": "y"
        }
       ],
       "layout": {
        "height": 400,
        "legend": {
         "title": {
          "text": "dataset"
         },
         "tracegroupgap": 0
        },
        "template": {
         "data": {
          "bar": [
           {
            "error_x": {
             "color": "#2a3f5f"
            },
            "error_y": {
             "color": "#2a3f5f"
            },
            "marker": {
             "line": {
              "color": "#E5ECF6",
              "width": 0.5
             }
            },
            "type": "bar"
           }
          ],
          "barpolar": [
           {
            "marker": {
             "line": {
              "color": "#E5ECF6",
              "width": 0.5
             }
            },
            "type": "barpolar"
           }
          ],
          "carpet": [
           {
            "aaxis": {
             "endlinecolor": "#2a3f5f",
             "gridcolor": "white",
             "linecolor": "white",
             "minorgridcolor": "white",
             "startlinecolor": "#2a3f5f"
            },
            "baxis": {
             "endlinecolor": "#2a3f5f",
             "gridcolor": "white",
             "linecolor": "white",
             "minorgridcolor": "white",
             "startlinecolor": "#2a3f5f"
            },
            "type": "carpet"
           }
          ],
          "choropleth": [
           {
            "colorbar": {
             "outlinewidth": 0,
             "ticks": ""
            },
            "type": "choropleth"
           }
          ],
          "contour": [
           {
            "colorbar": {
             "outlinewidth": 0,
             "ticks": ""
            },
            "colorscale": [
             [
              0,
              "#0d0887"
             ],
             [
              0.1111111111111111,
              "#46039f"
             ],
             [
              0.2222222222222222,
              "#7201a8"
             ],
             [
              0.3333333333333333,
              "#9c179e"
             ],
             [
              0.4444444444444444,
              "#bd3786"
             ],
             [
              0.5555555555555556,
              "#d8576b"
             ],
             [
              0.6666666666666666,
              "#ed7953"
             ],
             [
              0.7777777777777778,
              "#fb9f3a"
             ],
             [
              0.8888888888888888,
              "#fdca26"
             ],
             [
              1,
              "#f0f921"
             ]
            ],
            "type": "contour"
           }
          ],
          "contourcarpet": [
           {
            "colorbar": {
             "outlinewidth": 0,
             "ticks": ""
            },
            "type": "contourcarpet"
           }
          ],
          "heatmap": [
           {
            "colorbar": {
             "outlinewidth": 0,
             "ticks": ""
            },
            "colorscale": [
             [
              0,
              "#0d0887"
             ],
             [
              0.1111111111111111,
              "#46039f"
             ],
             [
              0.2222222222222222,
              "#7201a8"
             ],
             [
              0.3333333333333333,
              "#9c179e"
             ],
             [
              0.4444444444444444,
              "#bd3786"
             ],
             [
              0.5555555555555556,
              "#d8576b"
             ],
             [
              0.6666666666666666,
              "#ed7953"
             ],
             [
              0.7777777777777778,
              "#fb9f3a"
             ],
             [
              0.8888888888888888,
              "#fdca26"
             ],
             [
              1,
              "#f0f921"
             ]
            ],
            "type": "heatmap"
           }
          ],
          "heatmapgl": [
           {
            "colorbar": {
             "outlinewidth": 0,
             "ticks": ""
            },
            "colorscale": [
             [
              0,
              "#0d0887"
             ],
             [
              0.1111111111111111,
              "#46039f"
             ],
             [
              0.2222222222222222,
              "#7201a8"
             ],
             [
              0.3333333333333333,
              "#9c179e"
             ],
             [
              0.4444444444444444,
              "#bd3786"
             ],
             [
              0.5555555555555556,
              "#d8576b"
             ],
             [
              0.6666666666666666,
              "#ed7953"
             ],
             [
              0.7777777777777778,
              "#fb9f3a"
             ],
             [
              0.8888888888888888,
              "#fdca26"
             ],
             [
              1,
              "#f0f921"
             ]
            ],
            "type": "heatmapgl"
           }
          ],
          "histogram": [
           {
            "marker": {
             "colorbar": {
              "outlinewidth": 0,
              "ticks": ""
             }
            },
            "type": "histogram"
           }
          ],
          "histogram2d": [
           {
            "colorbar": {
             "outlinewidth": 0,
             "ticks": ""
            },
            "colorscale": [
             [
              0,
              "#0d0887"
             ],
             [
              0.1111111111111111,
              "#46039f"
             ],
             [
              0.2222222222222222,
              "#7201a8"
             ],
             [
              0.3333333333333333,
              "#9c179e"
             ],
             [
              0.4444444444444444,
              "#bd3786"
             ],
             [
              0.5555555555555556,
              "#d8576b"
             ],
             [
              0.6666666666666666,
              "#ed7953"
             ],
             [
              0.7777777777777778,
              "#fb9f3a"
             ],
             [
              0.8888888888888888,
              "#fdca26"
             ],
             [
              1,
              "#f0f921"
             ]
            ],
            "type": "histogram2d"
           }
          ],
          "histogram2dcontour": [
           {
            "colorbar": {
             "outlinewidth": 0,
             "ticks": ""
            },
            "colorscale": [
             [
              0,
              "#0d0887"
             ],
             [
              0.1111111111111111,
              "#46039f"
             ],
             [
              0.2222222222222222,
              "#7201a8"
             ],
             [
              0.3333333333333333,
              "#9c179e"
             ],
             [
              0.4444444444444444,
              "#bd3786"
             ],
             [
              0.5555555555555556,
              "#d8576b"
             ],
             [
              0.6666666666666666,
              "#ed7953"
             ],
             [
              0.7777777777777778,
              "#fb9f3a"
             ],
             [
              0.8888888888888888,
              "#fdca26"
             ],
             [
              1,
              "#f0f921"
             ]
            ],
            "type": "histogram2dcontour"
           }
          ],
          "mesh3d": [
           {
            "colorbar": {
             "outlinewidth": 0,
             "ticks": ""
            },
            "type": "mesh3d"
           }
          ],
          "parcoords": [
           {
            "line": {
             "colorbar": {
              "outlinewidth": 0,
              "ticks": ""
             }
            },
            "type": "parcoords"
           }
          ],
          "pie": [
           {
            "automargin": true,
            "type": "pie"
           }
          ],
          "scatter": [
           {
            "marker": {
             "colorbar": {
              "outlinewidth": 0,
              "ticks": ""
             }
            },
            "type": "scatter"
           }
          ],
          "scatter3d": [
           {
            "line": {
             "colorbar": {
              "outlinewidth": 0,
              "ticks": ""
             }
            },
            "marker": {
             "colorbar": {
              "outlinewidth": 0,
              "ticks": ""
             }
            },
            "type": "scatter3d"
           }
          ],
          "scattercarpet": [
           {
            "marker": {
             "colorbar": {
              "outlinewidth": 0,
              "ticks": ""
             }
            },
            "type": "scattercarpet"
           }
          ],
          "scattergeo": [
           {
            "marker": {
             "colorbar": {
              "outlinewidth": 0,
              "ticks": ""
             }
            },
            "type": "scattergeo"
           }
          ],
          "scattergl": [
           {
            "marker": {
             "colorbar": {
              "outlinewidth": 0,
              "ticks": ""
             }
            },
            "type": "scattergl"
           }
          ],
          "scattermapbox": [
           {
            "marker": {
             "colorbar": {
              "outlinewidth": 0,
              "ticks": ""
             }
            },
            "type": "scattermapbox"
           }
          ],
          "scatterpolar": [
           {
            "marker": {
             "colorbar": {
              "outlinewidth": 0,
              "ticks": ""
             }
            },
            "type": "scatterpolar"
           }
          ],
          "scatterpolargl": [
           {
            "marker": {
             "colorbar": {
              "outlinewidth": 0,
              "ticks": ""
             }
            },
            "type": "scatterpolargl"
           }
          ],
          "scatterternary": [
           {
            "marker": {
             "colorbar": {
              "outlinewidth": 0,
              "ticks": ""
             }
            },
            "type": "scatterternary"
           }
          ],
          "surface": [
           {
            "colorbar": {
             "outlinewidth": 0,
             "ticks": ""
            },
            "colorscale": [
             [
              0,
              "#0d0887"
             ],
             [
              0.1111111111111111,
              "#46039f"
             ],
             [
              0.2222222222222222,
              "#7201a8"
             ],
             [
              0.3333333333333333,
              "#9c179e"
             ],
             [
              0.4444444444444444,
              "#bd3786"
             ],
             [
              0.5555555555555556,
              "#d8576b"
             ],
             [
              0.6666666666666666,
              "#ed7953"
             ],
             [
              0.7777777777777778,
              "#fb9f3a"
             ],
             [
              0.8888888888888888,
              "#fdca26"
             ],
             [
              1,
              "#f0f921"
             ]
            ],
            "type": "surface"
           }
          ],
          "table": [
           {
            "cells": {
             "fill": {
              "color": "#EBF0F8"
             },
             "line": {
              "color": "white"
             }
            },
            "header": {
             "fill": {
              "color": "#C8D4E3"
             },
             "line": {
              "color": "white"
             }
            },
            "type": "table"
           }
          ]
         },
         "layout": {
          "annotationdefaults": {
           "arrowcolor": "#2a3f5f",
           "arrowhead": 0,
           "arrowwidth": 1
          },
          "autotypenumbers": "strict",
          "coloraxis": {
           "colorbar": {
            "outlinewidth": 0,
            "ticks": ""
           }
          },
          "colorscale": {
           "diverging": [
            [
             0,
             "#8e0152"
            ],
            [
             0.1,
             "#c51b7d"
            ],
            [
             0.2,
             "#de77ae"
            ],
            [
             0.3,
             "#f1b6da"
            ],
            [
             0.4,
             "#fde0ef"
            ],
            [
             0.5,
             "#f7f7f7"
            ],
            [
             0.6,
             "#e6f5d0"
            ],
            [
             0.7,
             "#b8e186"
            ],
            [
             0.8,
             "#7fbc41"
            ],
            [
             0.9,
             "#4d9221"
            ],
            [
             1,
             "#276419"
            ]
           ],
           "sequential": [
            [
             0,
             "#0d0887"
            ],
            [
             0.1111111111111111,
             "#46039f"
            ],
            [
             0.2222222222222222,
             "#7201a8"
            ],
            [
             0.3333333333333333,
             "#9c179e"
            ],
            [
             0.4444444444444444,
             "#bd3786"
            ],
            [
             0.5555555555555556,
             "#d8576b"
            ],
            [
             0.6666666666666666,
             "#ed7953"
            ],
            [
             0.7777777777777778,
             "#fb9f3a"
            ],
            [
             0.8888888888888888,
             "#fdca26"
            ],
            [
             1,
             "#f0f921"
            ]
           ],
           "sequentialminus": [
            [
             0,
             "#0d0887"
            ],
            [
             0.1111111111111111,
             "#46039f"
            ],
            [
             0.2222222222222222,
             "#7201a8"
            ],
            [
             0.3333333333333333,
             "#9c179e"
            ],
            [
             0.4444444444444444,
             "#bd3786"
            ],
            [
             0.5555555555555556,
             "#d8576b"
            ],
            [
             0.6666666666666666,
             "#ed7953"
            ],
            [
             0.7777777777777778,
             "#fb9f3a"
            ],
            [
             0.8888888888888888,
             "#fdca26"
            ],
            [
             1,
             "#f0f921"
            ]
           ]
          },
          "colorway": [
           "#636efa",
           "#EF553B",
           "#00cc96",
           "#ab63fa",
           "#FFA15A",
           "#19d3f3",
           "#FF6692",
           "#B6E880",
           "#FF97FF",
           "#FECB52"
          ],
          "font": {
           "color": "#2a3f5f"
          },
          "geo": {
           "bgcolor": "white",
           "lakecolor": "white",
           "landcolor": "#E5ECF6",
           "showlakes": true,
           "showland": true,
           "subunitcolor": "white"
          },
          "hoverlabel": {
           "align": "left"
          },
          "hovermode": "closest",
          "mapbox": {
           "style": "light"
          },
          "paper_bgcolor": "white",
          "plot_bgcolor": "#E5ECF6",
          "polar": {
           "angularaxis": {
            "gridcolor": "white",
            "linecolor": "white",
            "ticks": ""
           },
           "bgcolor": "#E5ECF6",
           "radialaxis": {
            "gridcolor": "white",
            "linecolor": "white",
            "ticks": ""
           }
          },
          "scene": {
           "xaxis": {
            "backgroundcolor": "#E5ECF6",
            "gridcolor": "white",
            "gridwidth": 2,
            "linecolor": "white",
            "showbackground": true,
            "ticks": "",
            "zerolinecolor": "white"
           },
           "yaxis": {
            "backgroundcolor": "#E5ECF6",
            "gridcolor": "white",
            "gridwidth": 2,
            "linecolor": "white",
            "showbackground": true,
            "ticks": "",
            "zerolinecolor": "white"
           },
           "zaxis": {
            "backgroundcolor": "#E5ECF6",
            "gridcolor": "white",
            "gridwidth": 2,
            "linecolor": "white",
            "showbackground": true,
            "ticks": "",
            "zerolinecolor": "white"
           }
          },
          "shapedefaults": {
           "line": {
            "color": "#2a3f5f"
           }
          },
          "ternary": {
           "aaxis": {
            "gridcolor": "white",
            "linecolor": "white",
            "ticks": ""
           },
           "baxis": {
            "gridcolor": "white",
            "linecolor": "white",
            "ticks": ""
           },
           "bgcolor": "#E5ECF6",
           "caxis": {
            "gridcolor": "white",
            "linecolor": "white",
            "ticks": ""
           }
          },
          "title": {
           "x": 0.05
          },
          "xaxis": {
           "automargin": true,
           "gridcolor": "white",
           "linecolor": "white",
           "ticks": "",
           "title": {
            "standoff": 15
           },
           "zerolinecolor": "white",
           "zerolinewidth": 2
          },
          "yaxis": {
           "automargin": true,
           "gridcolor": "white",
           "linecolor": "white",
           "ticks": "",
           "title": {
            "standoff": 15
           },
           "zerolinecolor": "white",
           "zerolinewidth": 2
          }
         }
        },
        "title": {
         "text": "loss"
        },
        "width": 800,
        "xaxis": {
         "anchor": "y",
         "domain": [
          0,
          1
         ],
         "title": {
          "text": "epoch"
         }
        },
        "yaxis": {
         "anchor": "x",
         "domain": [
          0,
          1
         ],
         "title": {
          "text": "loss"
         }
        }
       }
      },
      "text/html": "<div>                            <div id=\"0b629e5c-9328-4bc2-b8a1-a5e09c95bf4c\" class=\"plotly-graph-div\" style=\"height:400px; width:800px;\"></div>            <script type=\"text/javascript\">                require([\"plotly\"], function(Plotly) {                    window.PLOTLYENV=window.PLOTLYENV || {};                                    if (document.getElementById(\"0b629e5c-9328-4bc2-b8a1-a5e09c95bf4c\")) {                    Plotly.newPlot(                        \"0b629e5c-9328-4bc2-b8a1-a5e09c95bf4c\",                        [{\"hovertemplate\": \"dataset=train<br>epoch=%{x}<br>loss=%{y}<extra></extra>\", \"legendgroup\": \"train\", \"line\": {\"color\": \"#636efa\", \"dash\": \"solid\"}, \"mode\": \"lines\", \"name\": \"train\", \"orientation\": \"v\", \"showlegend\": true, \"type\": \"scatter\", \"x\": [10, 20, 30, 40, 50, 60, 70, 80, 90, 100, 110, 120, 130, 140, 150, 160, 170, 180, 190, 200, 210, 220, 230, 240, 250, 260, 270, 280, 290, 300, 310, 320, 330, 340, 350, 360, 370, 380, 390, 400, 410, 420, 430, 440, 450, 460, 470, 480, 490, 500, 510, 520, 530, 540, 550, 560, 570, 580, 590, 600, 610, 620, 630, 640, 650, 660, 670, 680, 690, 700, 710, 720, 730, 740, 750, 760, 770, 780, 790, 800, 810, 820, 830, 840, 850, 860, 870, 880, 890, 900, 910, 920, 930, 940, 950, 960, 970, 980, 990, 1000], \"xaxis\": \"x\", \"y\": [0.6873364448547363, 0.6726074814796448, 0.6453044414520264, 0.6125235557556152, 0.5836082696914673, 0.5701555013656616, 0.5663005709648132, 0.568702757358551, 0.5586951375007629, 0.559653639793396, 0.5536466836929321, 0.5597378015518188, 0.5540729761123657, 0.5507146716117859, 0.5466681122779846, 0.54700767993927, 0.5466890931129456, 0.5410134792327881, 0.5396267771720886, 0.5395839810371399, 0.5449514389038086, 0.5395922660827637, 0.5391245484352112, 0.5421876311302185, 0.5379103422164917, 0.536148726940155, 0.5322006344795227, 0.5291350483894348, 0.52841717004776, 0.527336061000824, 0.5316120386123657, 0.5257619619369507, 0.5263115167617798, 0.5233522653579712, 0.5207176804542542, 0.5287914872169495, 0.5249871015548706, 0.5210236310958862, 0.5149703025817871, 0.5130139589309692, 0.5133377909660339, 0.5135242938995361, 0.5097514390945435, 0.5089808702468872, 0.5072307586669922, 0.5070999264717102, 0.5081858038902283, 0.500713586807251, 0.5010544657707214, 0.5082693099975586, 0.5044665336608887, 0.506859302520752, 0.501882791519165, 0.5071796774864197, 0.500824511051178, 0.4980606436729431, 0.5094687938690186, 0.5002840161323547, 0.49036917090415955, 0.49504363536834717, 0.48994743824005127, 0.4968316853046417, 0.49068865180015564, 0.49083906412124634, 0.4886793792247772, 0.48644864559173584, 0.4877496063709259, 0.48442697525024414, 0.4833858013153076, 0.4846867620944977, 0.48365315794944763, 0.4850311279296875, 0.4850910007953644, 0.4794274568557739, 0.48161470890045166, 0.4832937717437744, 0.4887562096118927, 0.4810483753681183, 0.483864426612854, 0.48181578516960144, 0.47896838188171387, 0.4700353145599365, 0.4784434735774994, 0.4715368151664734, 0.4679275155067444, 0.467942476272583, 0.46804723143577576, 0.46482041478157043, 0.4626539349555969, 0.4641328752040863, 0.4632891118526459, 0.4779907166957855, 0.4621507525444031, 0.4613910913467407, 0.4576326608657837, 0.4568064212799072, 0.45922908186912537, 0.45450907945632935, 0.46090906858444214, 0.45545682311058044], \"yaxis\": \"y\"}, {\"hovertemplate\": \"dataset=val<br>epoch=%{x}<br>loss=%{y}<extra></extra>\", \"legendgroup\": \"val\", \"line\": {\"color\": \"#EF553B\", \"dash\": \"solid\"}, \"mode\": \"lines\", \"name\": \"val\", \"orientation\": \"v\", \"showlegend\": true, \"type\": \"scatter\", \"x\": [10, 20, 30, 40, 50, 60, 70, 80, 90, 100, 110, 120, 130, 140, 150, 160, 170, 180, 190, 200, 210, 220, 230, 240, 250, 260, 270, 280, 290, 300, 310, 320, 330, 340, 350, 360, 370, 380, 390, 400, 410, 420, 430, 440, 450, 460, 470, 480, 490, 500, 510, 520, 530, 540, 550, 560, 570, 580, 590, 600, 610, 620, 630, 640, 650, 660, 670, 680, 690, 700, 710, 720, 730, 740, 750, 760, 770, 780, 790, 800, 810, 820, 830, 840, 850, 860, 870, 880, 890, 900, 910, 920, 930, 940, 950, 960, 970, 980, 990, 1000], \"xaxis\": \"x\", \"y\": [0.6787300705909729, 0.6502188444137573, 0.6140875816345215, 0.5762689709663391, 0.5446364879608154, 0.5632714629173279, 0.5588417053222656, 0.5714099407196045, 0.5266821980476379, 0.5267860889434814, 0.5433204770088196, 0.5722338557243347, 0.5562652945518494, 0.5442667603492737, 0.5283231139183044, 0.5376877188682556, 0.5509219169616699, 0.5248902440071106, 0.5428435802459717, 0.5285080671310425, 0.5230763554573059, 0.5368242263793945, 0.541109025478363, 0.5342797636985779, 0.5159381628036499, 0.5309603810310364, 0.5350360870361328, 0.5465624928474426, 0.5258749723434448, 0.5302491188049316, 0.5383211374282837, 0.5171994566917419, 0.5331690907478333, 0.5316954255104065, 0.5403414964675903, 0.5373674035072327, 0.543589174747467, 0.5292680859565735, 0.5238974690437317, 0.516857922077179, 0.5248945355415344, 0.5325725674629211, 0.5187828540802002, 0.5151453018188477, 0.5035071969032288, 0.509330153465271, 0.502319872379303, 0.5015721321105957, 0.48914599418640137, 0.4996436536312103, 0.5102068185806274, 0.5022995471954346, 0.501132607460022, 0.511863648891449, 0.5142984390258789, 0.5045726299285889, 0.489793598651886, 0.5085830688476562, 0.5247533321380615, 0.5011324882507324, 0.497685968875885, 0.49474844336509705, 0.5007036328315735, 0.4884951114654541, 0.5046827793121338, 0.49953460693359375, 0.5054775476455688, 0.49848535656929016, 0.5042810440063477, 0.5055950880050659, 0.5014709830284119, 0.5012802481651306, 0.4982159435749054, 0.5142205357551575, 0.49474987387657166, 0.5029542446136475, 0.5014234781265259, 0.5092808604240417, 0.5057514309883118, 0.5163856148719788, 0.5016179084777832, 0.5057699680328369, 0.5304033756256104, 0.500605046749115, 0.5179462432861328, 0.4993760585784912, 0.5281092524528503, 0.5111571550369263, 0.49719029664993286, 0.5152957439422607, 0.49748852849006653, 0.5174713134765625, 0.49891313910484314, 0.507768988609314, 0.5112941861152649, 0.4959988296031952, 0.5114942193031311, 0.5360027551651001, 0.5105456709861755, 0.5231876969337463], \"yaxis\": \"y\"}],                        {\"height\": 400, \"legend\": {\"title\": {\"text\": \"dataset\"}, \"tracegroupgap\": 0}, \"template\": {\"data\": {\"bar\": [{\"error_x\": {\"color\": \"#2a3f5f\"}, \"error_y\": {\"color\": \"#2a3f5f\"}, \"marker\": {\"line\": {\"color\": \"#E5ECF6\", \"width\": 0.5}}, \"type\": \"bar\"}], \"barpolar\": [{\"marker\": {\"line\": {\"color\": \"#E5ECF6\", \"width\": 0.5}}, \"type\": \"barpolar\"}], \"carpet\": [{\"aaxis\": {\"endlinecolor\": \"#2a3f5f\", \"gridcolor\": \"white\", \"linecolor\": \"white\", \"minorgridcolor\": \"white\", \"startlinecolor\": \"#2a3f5f\"}, \"baxis\": {\"endlinecolor\": \"#2a3f5f\", \"gridcolor\": \"white\", \"linecolor\": \"white\", \"minorgridcolor\": \"white\", \"startlinecolor\": \"#2a3f5f\"}, \"type\": \"carpet\"}], \"choropleth\": [{\"colorbar\": {\"outlinewidth\": 0, \"ticks\": \"\"}, \"type\": \"choropleth\"}], \"contour\": [{\"colorbar\": {\"outlinewidth\": 0, \"ticks\": \"\"}, \"colorscale\": [[0.0, \"#0d0887\"], [0.1111111111111111, \"#46039f\"], [0.2222222222222222, \"#7201a8\"], [0.3333333333333333, \"#9c179e\"], [0.4444444444444444, \"#bd3786\"], [0.5555555555555556, \"#d8576b\"], [0.6666666666666666, \"#ed7953\"], [0.7777777777777778, \"#fb9f3a\"], [0.8888888888888888, \"#fdca26\"], [1.0, \"#f0f921\"]], \"type\": \"contour\"}], \"contourcarpet\": [{\"colorbar\": {\"outlinewidth\": 0, \"ticks\": \"\"}, \"type\": \"contourcarpet\"}], \"heatmap\": [{\"colorbar\": {\"outlinewidth\": 0, \"ticks\": \"\"}, \"colorscale\": [[0.0, \"#0d0887\"], [0.1111111111111111, \"#46039f\"], [0.2222222222222222, \"#7201a8\"], [0.3333333333333333, \"#9c179e\"], [0.4444444444444444, \"#bd3786\"], [0.5555555555555556, \"#d8576b\"], [0.6666666666666666, \"#ed7953\"], [0.7777777777777778, \"#fb9f3a\"], [0.8888888888888888, \"#fdca26\"], [1.0, \"#f0f921\"]], \"type\": \"heatmap\"}], \"heatmapgl\": [{\"colorbar\": {\"outlinewidth\": 0, \"ticks\": \"\"}, \"colorscale\": [[0.0, \"#0d0887\"], [0.1111111111111111, \"#46039f\"], [0.2222222222222222, \"#7201a8\"], [0.3333333333333333, \"#9c179e\"], [0.4444444444444444, \"#bd3786\"], [0.5555555555555556, \"#d8576b\"], [0.6666666666666666, \"#ed7953\"], [0.7777777777777778, \"#fb9f3a\"], [0.8888888888888888, \"#fdca26\"], [1.0, \"#f0f921\"]], \"type\": \"heatmapgl\"}], \"histogram\": [{\"marker\": {\"colorbar\": {\"outlinewidth\": 0, \"ticks\": \"\"}}, \"type\": \"histogram\"}], \"histogram2d\": [{\"colorbar\": {\"outlinewidth\": 0, \"ticks\": \"\"}, \"colorscale\": [[0.0, \"#0d0887\"], [0.1111111111111111, \"#46039f\"], [0.2222222222222222, \"#7201a8\"], [0.3333333333333333, \"#9c179e\"], [0.4444444444444444, \"#bd3786\"], [0.5555555555555556, \"#d8576b\"], [0.6666666666666666, \"#ed7953\"], [0.7777777777777778, \"#fb9f3a\"], [0.8888888888888888, \"#fdca26\"], [1.0, \"#f0f921\"]], \"type\": \"histogram2d\"}], \"histogram2dcontour\": [{\"colorbar\": {\"outlinewidth\": 0, \"ticks\": \"\"}, \"colorscale\": [[0.0, \"#0d0887\"], [0.1111111111111111, \"#46039f\"], [0.2222222222222222, \"#7201a8\"], [0.3333333333333333, \"#9c179e\"], [0.4444444444444444, \"#bd3786\"], [0.5555555555555556, \"#d8576b\"], [0.6666666666666666, \"#ed7953\"], [0.7777777777777778, \"#fb9f3a\"], [0.8888888888888888, \"#fdca26\"], [1.0, \"#f0f921\"]], \"type\": \"histogram2dcontour\"}], \"mesh3d\": [{\"colorbar\": {\"outlinewidth\": 0, \"ticks\": \"\"}, \"type\": \"mesh3d\"}], \"parcoords\": [{\"line\": {\"colorbar\": {\"outlinewidth\": 0, \"ticks\": \"\"}}, \"type\": \"parcoords\"}], \"pie\": [{\"automargin\": true, \"type\": \"pie\"}], \"scatter\": [{\"marker\": {\"colorbar\": {\"outlinewidth\": 0, \"ticks\": \"\"}}, \"type\": \"scatter\"}], \"scatter3d\": [{\"line\": {\"colorbar\": {\"outlinewidth\": 0, \"ticks\": \"\"}}, \"marker\": {\"colorbar\": {\"outlinewidth\": 0, \"ticks\": \"\"}}, \"type\": \"scatter3d\"}], \"scattercarpet\": [{\"marker\": {\"colorbar\": {\"outlinewidth\": 0, \"ticks\": \"\"}}, \"type\": \"scattercarpet\"}], \"scattergeo\": [{\"marker\": {\"colorbar\": {\"outlinewidth\": 0, \"ticks\": \"\"}}, \"type\": \"scattergeo\"}], \"scattergl\": [{\"marker\": {\"colorbar\": {\"outlinewidth\": 0, \"ticks\": \"\"}}, \"type\": \"scattergl\"}], \"scattermapbox\": [{\"marker\": {\"colorbar\": {\"outlinewidth\": 0, \"ticks\": \"\"}}, \"type\": \"scattermapbox\"}], \"scatterpolar\": [{\"marker\": {\"colorbar\": {\"outlinewidth\": 0, \"ticks\": \"\"}}, \"type\": \"scatterpolar\"}], \"scatterpolargl\": [{\"marker\": {\"colorbar\": {\"outlinewidth\": 0, \"ticks\": \"\"}}, \"type\": \"scatterpolargl\"}], \"scatterternary\": [{\"marker\": {\"colorbar\": {\"outlinewidth\": 0, \"ticks\": \"\"}}, \"type\": \"scatterternary\"}], \"surface\": [{\"colorbar\": {\"outlinewidth\": 0, \"ticks\": \"\"}, \"colorscale\": [[0.0, \"#0d0887\"], [0.1111111111111111, \"#46039f\"], [0.2222222222222222, \"#7201a8\"], [0.3333333333333333, \"#9c179e\"], [0.4444444444444444, \"#bd3786\"], [0.5555555555555556, \"#d8576b\"], [0.6666666666666666, \"#ed7953\"], [0.7777777777777778, \"#fb9f3a\"], [0.8888888888888888, \"#fdca26\"], [1.0, \"#f0f921\"]], \"type\": \"surface\"}], \"table\": [{\"cells\": {\"fill\": {\"color\": \"#EBF0F8\"}, \"line\": {\"color\": \"white\"}}, \"header\": {\"fill\": {\"color\": \"#C8D4E3\"}, \"line\": {\"color\": \"white\"}}, \"type\": \"table\"}]}, \"layout\": {\"annotationdefaults\": {\"arrowcolor\": \"#2a3f5f\", \"arrowhead\": 0, \"arrowwidth\": 1}, \"autotypenumbers\": \"strict\", \"coloraxis\": {\"colorbar\": {\"outlinewidth\": 0, \"ticks\": \"\"}}, \"colorscale\": {\"diverging\": [[0, \"#8e0152\"], [0.1, \"#c51b7d\"], [0.2, \"#de77ae\"], [0.3, \"#f1b6da\"], [0.4, \"#fde0ef\"], [0.5, \"#f7f7f7\"], [0.6, \"#e6f5d0\"], [0.7, \"#b8e186\"], [0.8, \"#7fbc41\"], [0.9, \"#4d9221\"], [1, \"#276419\"]], \"sequential\": [[0.0, \"#0d0887\"], [0.1111111111111111, \"#46039f\"], [0.2222222222222222, \"#7201a8\"], [0.3333333333333333, \"#9c179e\"], [0.4444444444444444, \"#bd3786\"], [0.5555555555555556, \"#d8576b\"], [0.6666666666666666, \"#ed7953\"], [0.7777777777777778, \"#fb9f3a\"], [0.8888888888888888, \"#fdca26\"], [1.0, \"#f0f921\"]], \"sequentialminus\": [[0.0, \"#0d0887\"], [0.1111111111111111, \"#46039f\"], [0.2222222222222222, \"#7201a8\"], [0.3333333333333333, \"#9c179e\"], [0.4444444444444444, \"#bd3786\"], [0.5555555555555556, \"#d8576b\"], [0.6666666666666666, \"#ed7953\"], [0.7777777777777778, \"#fb9f3a\"], [0.8888888888888888, \"#fdca26\"], [1.0, \"#f0f921\"]]}, \"colorway\": [\"#636efa\", \"#EF553B\", \"#00cc96\", \"#ab63fa\", \"#FFA15A\", \"#19d3f3\", \"#FF6692\", \"#B6E880\", \"#FF97FF\", \"#FECB52\"], \"font\": {\"color\": \"#2a3f5f\"}, \"geo\": {\"bgcolor\": \"white\", \"lakecolor\": \"white\", \"landcolor\": \"#E5ECF6\", \"showlakes\": true, \"showland\": true, \"subunitcolor\": \"white\"}, \"hoverlabel\": {\"align\": \"left\"}, \"hovermode\": \"closest\", \"mapbox\": {\"style\": \"light\"}, \"paper_bgcolor\": \"white\", \"plot_bgcolor\": \"#E5ECF6\", \"polar\": {\"angularaxis\": {\"gridcolor\": \"white\", \"linecolor\": \"white\", \"ticks\": \"\"}, \"bgcolor\": \"#E5ECF6\", \"radialaxis\": {\"gridcolor\": \"white\", \"linecolor\": \"white\", \"ticks\": \"\"}}, \"scene\": {\"xaxis\": {\"backgroundcolor\": \"#E5ECF6\", \"gridcolor\": \"white\", \"gridwidth\": 2, \"linecolor\": \"white\", \"showbackground\": true, \"ticks\": \"\", \"zerolinecolor\": \"white\"}, \"yaxis\": {\"backgroundcolor\": \"#E5ECF6\", \"gridcolor\": \"white\", \"gridwidth\": 2, \"linecolor\": \"white\", \"showbackground\": true, \"ticks\": \"\", \"zerolinecolor\": \"white\"}, \"zaxis\": {\"backgroundcolor\": \"#E5ECF6\", \"gridcolor\": \"white\", \"gridwidth\": 2, \"linecolor\": \"white\", \"showbackground\": true, \"ticks\": \"\", \"zerolinecolor\": \"white\"}}, \"shapedefaults\": {\"line\": {\"color\": \"#2a3f5f\"}}, \"ternary\": {\"aaxis\": {\"gridcolor\": \"white\", \"linecolor\": \"white\", \"ticks\": \"\"}, \"baxis\": {\"gridcolor\": \"white\", \"linecolor\": \"white\", \"ticks\": \"\"}, \"bgcolor\": \"#E5ECF6\", \"caxis\": {\"gridcolor\": \"white\", \"linecolor\": \"white\", \"ticks\": \"\"}}, \"title\": {\"x\": 0.05}, \"xaxis\": {\"automargin\": true, \"gridcolor\": \"white\", \"linecolor\": \"white\", \"ticks\": \"\", \"title\": {\"standoff\": 15}, \"zerolinecolor\": \"white\", \"zerolinewidth\": 2}, \"yaxis\": {\"automargin\": true, \"gridcolor\": \"white\", \"linecolor\": \"white\", \"ticks\": \"\", \"title\": {\"standoff\": 15}, \"zerolinecolor\": \"white\", \"zerolinewidth\": 2}}}, \"title\": {\"text\": \"loss\"}, \"width\": 800, \"xaxis\": {\"anchor\": \"y\", \"domain\": [0.0, 1.0], \"title\": {\"text\": \"epoch\"}}, \"yaxis\": {\"anchor\": \"x\", \"domain\": [0.0, 1.0], \"title\": {\"text\": \"loss\"}}},                        {\"responsive\": true}                    ).then(function(){\n                            \nvar gd = document.getElementById('0b629e5c-9328-4bc2-b8a1-a5e09c95bf4c');\nvar x = new MutationObserver(function (mutations, observer) {{\n        var display = window.getComputedStyle(gd).display;\n        if (!display || display === 'none') {{\n            console.log([gd, 'removed!']);\n            Plotly.purge(gd);\n            observer.disconnect();\n        }}\n}});\n\n// Listen for the removal of the full notebook cells\nvar notebookContainer = gd.closest('#notebook-container');\nif (notebookContainer) {{\n    x.observe(notebookContainer, {childList: true});\n}}\n\n// Listen for the clearing of the current output cell\nvar outputEl = gd.closest('.output');\nif (outputEl) {{\n    x.observe(outputEl, {childList: true});\n}}\n\n                        })                };                });            </script>        </div>"
     },
     "metadata": {}
    },
    {
     "output_type": "display_data",
     "data": {
      "application/vnd.plotly.v1+json": {
       "config": {
        "plotlyServerURL": "https://plot.ly"
       },
       "data": [
        {
         "hovertemplate": "dataset=train<br>epoch=%{x}<br>accuracy=%{y}<extra></extra>",
         "legendgroup": "train",
         "line": {
          "color": "#636efa",
          "dash": "solid"
         },
         "mode": "lines",
         "name": "train",
         "orientation": "v",
         "showlegend": true,
         "type": "scatter",
         "x": [
          10,
          20,
          30,
          40,
          50,
          60,
          70,
          80,
          90,
          100,
          110,
          120,
          130,
          140,
          150,
          160,
          170,
          180,
          190,
          200,
          210,
          220,
          230,
          240,
          250,
          260,
          270,
          280,
          290,
          300,
          310,
          320,
          330,
          340,
          350,
          360,
          370,
          380,
          390,
          400,
          410,
          420,
          430,
          440,
          450,
          460,
          470,
          480,
          490,
          500,
          510,
          520,
          530,
          540,
          550,
          560,
          570,
          580,
          590,
          600,
          610,
          620,
          630,
          640,
          650,
          660,
          670,
          680,
          690,
          700,
          710,
          720,
          730,
          740,
          750,
          760,
          770,
          780,
          790,
          800,
          810,
          820,
          830,
          840,
          850,
          860,
          870,
          880,
          890,
          900,
          910,
          920,
          930,
          940,
          950,
          960,
          970,
          980,
          990,
          1000
         ],
         "xaxis": "x",
         "y": [
          0.559220552444458,
          0.5939307808876038,
          0.6541154980659485,
          0.6818227767944336,
          0.7024256587028503,
          0.702933132648468,
          0.6996853947639465,
          0.7012077569961548,
          0.713691234588623,
          0.7065868377685547,
          0.7128793001174927,
          0.7087181806564331,
          0.7174464464187622,
          0.7163300514221191,
          0.7206941843032837,
          0.7198822498321533,
          0.717243492603302,
          0.7252613306045532,
          0.7223180532455444,
          0.7267836928367615,
          0.7213031649589539,
          0.7199837565422058,
          0.7183598875999451,
          0.7223180532455444,
          0.7286105751991272,
          0.7254643440246582,
          0.7318583130836487,
          0.736019492149353,
          0.7375418543815613,
          0.7401806712150574,
          0.7312493920326233,
          0.7373389005661011,
          0.7336851954460144,
          0.7403836250305176,
          0.7430224418640137,
          0.7311478853225708,
          0.7327717542648315,
          0.7348015904426575,
          0.7444432973861694,
          0.7475895881652832,
          0.7449507713317871,
          0.7477925419807434,
          0.7460671663284302,
          0.7453567385673523,
          0.741195559501648,
          0.7423120141029358,
          0.7446463108062744,
          0.7538820505142212,
          0.7488074898719788,
          0.7507358193397522,
          0.7516492605209351,
          0.74586421251297,
          0.7511417865753174,
          0.7510402798652649,
          0.7523596882820129,
          0.757941722869873,
          0.7479955554008484,
          0.7556074261665344,
          0.7597686052322388,
          0.7566223740577698,
          0.7574343085289001,
          0.7539835572242737,
          0.7638282775878906,
          0.7662640810012817,
          0.7605805397033691,
          0.7663655877113342,
          0.7674819827079773,
          0.7689028978347778,
          0.7665685415267944,
          0.7704252600669861,
          0.7683954238891602,
          0.7627118825912476,
          0.7662640810012817,
          0.7682939171791077,
          0.7637267708778381,
          0.7637267708778381,
          0.7566223740577698,
          0.7651476860046387,
          0.7626103758811951,
          0.7682939171791077,
          0.7671775221824646,
          0.7764132618904114,
          0.7689028978347778,
          0.7733685374259949,
          0.776920735836029,
          0.7749924063682556,
          0.7741804718971252,
          0.7805744409561157,
          0.7771236896514893,
          0.7736729979515076,
          0.7777326703071594,
          0.7673804759979248,
          0.7807774543762207,
          0.780066967010498,
          0.7835177183151245,
          0.7801684737205505,
          0.7805744409561157,
          0.7861564755439758,
          0.782096803188324,
          0.7872729301452637
         ],
         "yaxis": "y"
        },
        {
         "hovertemplate": "dataset=val<br>epoch=%{x}<br>accuracy=%{y}<extra></extra>",
         "legendgroup": "val",
         "line": {
          "color": "#EF553B",
          "dash": "solid"
         },
         "mode": "lines",
         "name": "val",
         "orientation": "v",
         "showlegend": true,
         "type": "scatter",
         "x": [
          10,
          20,
          30,
          40,
          50,
          60,
          70,
          80,
          90,
          100,
          110,
          120,
          130,
          140,
          150,
          160,
          170,
          180,
          190,
          200,
          210,
          220,
          230,
          240,
          250,
          260,
          270,
          280,
          290,
          300,
          310,
          320,
          330,
          340,
          350,
          360,
          370,
          380,
          390,
          400,
          410,
          420,
          430,
          440,
          450,
          460,
          470,
          480,
          490,
          500,
          510,
          520,
          530,
          540,
          550,
          560,
          570,
          580,
          590,
          600,
          610,
          620,
          630,
          640,
          650,
          660,
          670,
          680,
          690,
          700,
          710,
          720,
          730,
          740,
          750,
          760,
          770,
          780,
          790,
          800,
          810,
          820,
          830,
          840,
          850,
          860,
          870,
          880,
          890,
          900,
          910,
          920,
          930,
          940,
          950,
          960,
          970,
          980,
          990,
          1000
         ],
         "xaxis": "x",
         "y": [
          0.6768115758895874,
          0.7082815766334534,
          0.7385092973709106,
          0.7514492869377136,
          0.7582815885543823,
          0.7169772386550903,
          0.7199792861938477,
          0.7060041427612305,
          0.7366459369659424,
          0.7439958453178406,
          0.7248446941375732,
          0.7011387348175049,
          0.7156314849853516,
          0.7224637866020203,
          0.7350931763648987,
          0.7248446941375732,
          0.709730863571167,
          0.7254658341407776,
          0.7197722792625427,
          0.7274327278137207,
          0.7364389300346375,
          0.7316769957542419,
          0.7218426465988159,
          0.7355072498321533,
          0.7487577795982361,
          0.7281573414802551,
          0.7285714149475098,
          0.7172877788543701,
          0.7287784814834595,
          0.7307453155517578,
          0.7277432680130005,
          0.7448239922523499,
          0.7234989404678345,
          0.7329192757606506,
          0.7228778600692749,
          0.7241200804710388,
          0.7249482274055481,
          0.7336438894271851,
          0.7374741435050964,
          0.7384058237075806,
          0.7342650294303894,
          0.7333333492279053,
          0.7419254779815674,
          0.7486542463302612,
          0.7567287683486938,
          0.7547619342803955,
          0.7559006214141846,
          0.7549689412117004,
          0.760869562625885,
          0.7633540630340576,
          0.7570393085479736,
          0.7561076879501343,
          0.7584885954856873,
          0.7565217614173889,
          0.7501035332679749,
          0.7564182281494141,
          0.7631469964981079,
          0.7528985738754272,
          0.7373706102371216,
          0.761904776096344,
          0.7620083093643188,
          0.7666666507720947,
          0.757453441619873,
          0.7698757648468018,
          0.7578675150871277,
          0.759834349155426,
          0.7561076879501343,
          0.7591097354888916,
          0.7549689412117004,
          0.7538302540779114,
          0.757660448551178,
          0.7638716101646423,
          0.7578675150871277,
          0.7515528202056885,
          0.7621117830276489,
          0.7563146948814392,
          0.7550724744796753,
          0.7524845004081726,
          0.7527950406074524,
          0.7507246136665344,
          0.7567287683486938,
          0.7571428418159485,
          0.7435817718505859,
          0.7577639818191528,
          0.7452380657196045,
          0.7587991952896118,
          0.7404761910438538,
          0.7451345920562744,
          0.7577639818191528,
          0.7507246136665344,
          0.7596273422241211,
          0.746790885925293,
          0.7614907026290894,
          0.7504140734672546,
          0.7458592057228088,
          0.7568323016166687,
          0.7494823932647705,
          0.7324016690254211,
          0.7527950406074524,
          0.7388198971748352
         ],
         "yaxis": "y"
        }
       ],
       "layout": {
        "height": 400,
        "legend": {
         "title": {
          "text": "dataset"
         },
         "tracegroupgap": 0
        },
        "template": {
         "data": {
          "bar": [
           {
            "error_x": {
             "color": "#2a3f5f"
            },
            "error_y": {
             "color": "#2a3f5f"
            },
            "marker": {
             "line": {
              "color": "#E5ECF6",
              "width": 0.5
             }
            },
            "type": "bar"
           }
          ],
          "barpolar": [
           {
            "marker": {
             "line": {
              "color": "#E5ECF6",
              "width": 0.5
             }
            },
            "type": "barpolar"
           }
          ],
          "carpet": [
           {
            "aaxis": {
             "endlinecolor": "#2a3f5f",
             "gridcolor": "white",
             "linecolor": "white",
             "minorgridcolor": "white",
             "startlinecolor": "#2a3f5f"
            },
            "baxis": {
             "endlinecolor": "#2a3f5f",
             "gridcolor": "white",
             "linecolor": "white",
             "minorgridcolor": "white",
             "startlinecolor": "#2a3f5f"
            },
            "type": "carpet"
           }
          ],
          "choropleth": [
           {
            "colorbar": {
             "outlinewidth": 0,
             "ticks": ""
            },
            "type": "choropleth"
           }
          ],
          "contour": [
           {
            "colorbar": {
             "outlinewidth": 0,
             "ticks": ""
            },
            "colorscale": [
             [
              0,
              "#0d0887"
             ],
             [
              0.1111111111111111,
              "#46039f"
             ],
             [
              0.2222222222222222,
              "#7201a8"
             ],
             [
              0.3333333333333333,
              "#9c179e"
             ],
             [
              0.4444444444444444,
              "#bd3786"
             ],
             [
              0.5555555555555556,
              "#d8576b"
             ],
             [
              0.6666666666666666,
              "#ed7953"
             ],
             [
              0.7777777777777778,
              "#fb9f3a"
             ],
             [
              0.8888888888888888,
              "#fdca26"
             ],
             [
              1,
              "#f0f921"
             ]
            ],
            "type": "contour"
           }
          ],
          "contourcarpet": [
           {
            "colorbar": {
             "outlinewidth": 0,
             "ticks": ""
            },
            "type": "contourcarpet"
           }
          ],
          "heatmap": [
           {
            "colorbar": {
             "outlinewidth": 0,
             "ticks": ""
            },
            "colorscale": [
             [
              0,
              "#0d0887"
             ],
             [
              0.1111111111111111,
              "#46039f"
             ],
             [
              0.2222222222222222,
              "#7201a8"
             ],
             [
              0.3333333333333333,
              "#9c179e"
             ],
             [
              0.4444444444444444,
              "#bd3786"
             ],
             [
              0.5555555555555556,
              "#d8576b"
             ],
             [
              0.6666666666666666,
              "#ed7953"
             ],
             [
              0.7777777777777778,
              "#fb9f3a"
             ],
             [
              0.8888888888888888,
              "#fdca26"
             ],
             [
              1,
              "#f0f921"
             ]
            ],
            "type": "heatmap"
           }
          ],
          "heatmapgl": [
           {
            "colorbar": {
             "outlinewidth": 0,
             "ticks": ""
            },
            "colorscale": [
             [
              0,
              "#0d0887"
             ],
             [
              0.1111111111111111,
              "#46039f"
             ],
             [
              0.2222222222222222,
              "#7201a8"
             ],
             [
              0.3333333333333333,
              "#9c179e"
             ],
             [
              0.4444444444444444,
              "#bd3786"
             ],
             [
              0.5555555555555556,
              "#d8576b"
             ],
             [
              0.6666666666666666,
              "#ed7953"
             ],
             [
              0.7777777777777778,
              "#fb9f3a"
             ],
             [
              0.8888888888888888,
              "#fdca26"
             ],
             [
              1,
              "#f0f921"
             ]
            ],
            "type": "heatmapgl"
           }
          ],
          "histogram": [
           {
            "marker": {
             "colorbar": {
              "outlinewidth": 0,
              "ticks": ""
             }
            },
            "type": "histogram"
           }
          ],
          "histogram2d": [
           {
            "colorbar": {
             "outlinewidth": 0,
             "ticks": ""
            },
            "colorscale": [
             [
              0,
              "#0d0887"
             ],
             [
              0.1111111111111111,
              "#46039f"
             ],
             [
              0.2222222222222222,
              "#7201a8"
             ],
             [
              0.3333333333333333,
              "#9c179e"
             ],
             [
              0.4444444444444444,
              "#bd3786"
             ],
             [
              0.5555555555555556,
              "#d8576b"
             ],
             [
              0.6666666666666666,
              "#ed7953"
             ],
             [
              0.7777777777777778,
              "#fb9f3a"
             ],
             [
              0.8888888888888888,
              "#fdca26"
             ],
             [
              1,
              "#f0f921"
             ]
            ],
            "type": "histogram2d"
           }
          ],
          "histogram2dcontour": [
           {
            "colorbar": {
             "outlinewidth": 0,
             "ticks": ""
            },
            "colorscale": [
             [
              0,
              "#0d0887"
             ],
             [
              0.1111111111111111,
              "#46039f"
             ],
             [
              0.2222222222222222,
              "#7201a8"
             ],
             [
              0.3333333333333333,
              "#9c179e"
             ],
             [
              0.4444444444444444,
              "#bd3786"
             ],
             [
              0.5555555555555556,
              "#d8576b"
             ],
             [
              0.6666666666666666,
              "#ed7953"
             ],
             [
              0.7777777777777778,
              "#fb9f3a"
             ],
             [
              0.8888888888888888,
              "#fdca26"
             ],
             [
              1,
              "#f0f921"
             ]
            ],
            "type": "histogram2dcontour"
           }
          ],
          "mesh3d": [
           {
            "colorbar": {
             "outlinewidth": 0,
             "ticks": ""
            },
            "type": "mesh3d"
           }
          ],
          "parcoords": [
           {
            "line": {
             "colorbar": {
              "outlinewidth": 0,
              "ticks": ""
             }
            },
            "type": "parcoords"
           }
          ],
          "pie": [
           {
            "automargin": true,
            "type": "pie"
           }
          ],
          "scatter": [
           {
            "marker": {
             "colorbar": {
              "outlinewidth": 0,
              "ticks": ""
             }
            },
            "type": "scatter"
           }
          ],
          "scatter3d": [
           {
            "line": {
             "colorbar": {
              "outlinewidth": 0,
              "ticks": ""
             }
            },
            "marker": {
             "colorbar": {
              "outlinewidth": 0,
              "ticks": ""
             }
            },
            "type": "scatter3d"
           }
          ],
          "scattercarpet": [
           {
            "marker": {
             "colorbar": {
              "outlinewidth": 0,
              "ticks": ""
             }
            },
            "type": "scattercarpet"
           }
          ],
          "scattergeo": [
           {
            "marker": {
             "colorbar": {
              "outlinewidth": 0,
              "ticks": ""
             }
            },
            "type": "scattergeo"
           }
          ],
          "scattergl": [
           {
            "marker": {
             "colorbar": {
              "outlinewidth": 0,
              "ticks": ""
             }
            },
            "type": "scattergl"
           }
          ],
          "scattermapbox": [
           {
            "marker": {
             "colorbar": {
              "outlinewidth": 0,
              "ticks": ""
             }
            },
            "type": "scattermapbox"
           }
          ],
          "scatterpolar": [
           {
            "marker": {
             "colorbar": {
              "outlinewidth": 0,
              "ticks": ""
             }
            },
            "type": "scatterpolar"
           }
          ],
          "scatterpolargl": [
           {
            "marker": {
             "colorbar": {
              "outlinewidth": 0,
              "ticks": ""
             }
            },
            "type": "scatterpolargl"
           }
          ],
          "scatterternary": [
           {
            "marker": {
             "colorbar": {
              "outlinewidth": 0,
              "ticks": ""
             }
            },
            "type": "scatterternary"
           }
          ],
          "surface": [
           {
            "colorbar": {
             "outlinewidth": 0,
             "ticks": ""
            },
            "colorscale": [
             [
              0,
              "#0d0887"
             ],
             [
              0.1111111111111111,
              "#46039f"
             ],
             [
              0.2222222222222222,
              "#7201a8"
             ],
             [
              0.3333333333333333,
              "#9c179e"
             ],
             [
              0.4444444444444444,
              "#bd3786"
             ],
             [
              0.5555555555555556,
              "#d8576b"
             ],
             [
              0.6666666666666666,
              "#ed7953"
             ],
             [
              0.7777777777777778,
              "#fb9f3a"
             ],
             [
              0.8888888888888888,
              "#fdca26"
             ],
             [
              1,
              "#f0f921"
             ]
            ],
            "type": "surface"
           }
          ],
          "table": [
           {
            "cells": {
             "fill": {
              "color": "#EBF0F8"
             },
             "line": {
              "color": "white"
             }
            },
            "header": {
             "fill": {
              "color": "#C8D4E3"
             },
             "line": {
              "color": "white"
             }
            },
            "type": "table"
           }
          ]
         },
         "layout": {
          "annotationdefaults": {
           "arrowcolor": "#2a3f5f",
           "arrowhead": 0,
           "arrowwidth": 1
          },
          "autotypenumbers": "strict",
          "coloraxis": {
           "colorbar": {
            "outlinewidth": 0,
            "ticks": ""
           }
          },
          "colorscale": {
           "diverging": [
            [
             0,
             "#8e0152"
            ],
            [
             0.1,
             "#c51b7d"
            ],
            [
             0.2,
             "#de77ae"
            ],
            [
             0.3,
             "#f1b6da"
            ],
            [
             0.4,
             "#fde0ef"
            ],
            [
             0.5,
             "#f7f7f7"
            ],
            [
             0.6,
             "#e6f5d0"
            ],
            [
             0.7,
             "#b8e186"
            ],
            [
             0.8,
             "#7fbc41"
            ],
            [
             0.9,
             "#4d9221"
            ],
            [
             1,
             "#276419"
            ]
           ],
           "sequential": [
            [
             0,
             "#0d0887"
            ],
            [
             0.1111111111111111,
             "#46039f"
            ],
            [
             0.2222222222222222,
             "#7201a8"
            ],
            [
             0.3333333333333333,
             "#9c179e"
            ],
            [
             0.4444444444444444,
             "#bd3786"
            ],
            [
             0.5555555555555556,
             "#d8576b"
            ],
            [
             0.6666666666666666,
             "#ed7953"
            ],
            [
             0.7777777777777778,
             "#fb9f3a"
            ],
            [
             0.8888888888888888,
             "#fdca26"
            ],
            [
             1,
             "#f0f921"
            ]
           ],
           "sequentialminus": [
            [
             0,
             "#0d0887"
            ],
            [
             0.1111111111111111,
             "#46039f"
            ],
            [
             0.2222222222222222,
             "#7201a8"
            ],
            [
             0.3333333333333333,
             "#9c179e"
            ],
            [
             0.4444444444444444,
             "#bd3786"
            ],
            [
             0.5555555555555556,
             "#d8576b"
            ],
            [
             0.6666666666666666,
             "#ed7953"
            ],
            [
             0.7777777777777778,
             "#fb9f3a"
            ],
            [
             0.8888888888888888,
             "#fdca26"
            ],
            [
             1,
             "#f0f921"
            ]
           ]
          },
          "colorway": [
           "#636efa",
           "#EF553B",
           "#00cc96",
           "#ab63fa",
           "#FFA15A",
           "#19d3f3",
           "#FF6692",
           "#B6E880",
           "#FF97FF",
           "#FECB52"
          ],
          "font": {
           "color": "#2a3f5f"
          },
          "geo": {
           "bgcolor": "white",
           "lakecolor": "white",
           "landcolor": "#E5ECF6",
           "showlakes": true,
           "showland": true,
           "subunitcolor": "white"
          },
          "hoverlabel": {
           "align": "left"
          },
          "hovermode": "closest",
          "mapbox": {
           "style": "light"
          },
          "paper_bgcolor": "white",
          "plot_bgcolor": "#E5ECF6",
          "polar": {
           "angularaxis": {
            "gridcolor": "white",
            "linecolor": "white",
            "ticks": ""
           },
           "bgcolor": "#E5ECF6",
           "radialaxis": {
            "gridcolor": "white",
            "linecolor": "white",
            "ticks": ""
           }
          },
          "scene": {
           "xaxis": {
            "backgroundcolor": "#E5ECF6",
            "gridcolor": "white",
            "gridwidth": 2,
            "linecolor": "white",
            "showbackground": true,
            "ticks": "",
            "zerolinecolor": "white"
           },
           "yaxis": {
            "backgroundcolor": "#E5ECF6",
            "gridcolor": "white",
            "gridwidth": 2,
            "linecolor": "white",
            "showbackground": true,
            "ticks": "",
            "zerolinecolor": "white"
           },
           "zaxis": {
            "backgroundcolor": "#E5ECF6",
            "gridcolor": "white",
            "gridwidth": 2,
            "linecolor": "white",
            "showbackground": true,
            "ticks": "",
            "zerolinecolor": "white"
           }
          },
          "shapedefaults": {
           "line": {
            "color": "#2a3f5f"
           }
          },
          "ternary": {
           "aaxis": {
            "gridcolor": "white",
            "linecolor": "white",
            "ticks": ""
           },
           "baxis": {
            "gridcolor": "white",
            "linecolor": "white",
            "ticks": ""
           },
           "bgcolor": "#E5ECF6",
           "caxis": {
            "gridcolor": "white",
            "linecolor": "white",
            "ticks": ""
           }
          },
          "title": {
           "x": 0.05
          },
          "xaxis": {
           "automargin": true,
           "gridcolor": "white",
           "linecolor": "white",
           "ticks": "",
           "title": {
            "standoff": 15
           },
           "zerolinecolor": "white",
           "zerolinewidth": 2
          },
          "yaxis": {
           "automargin": true,
           "gridcolor": "white",
           "linecolor": "white",
           "ticks": "",
           "title": {
            "standoff": 15
           },
           "zerolinecolor": "white",
           "zerolinewidth": 2
          }
         }
        },
        "title": {
         "text": "accuracy"
        },
        "width": 800,
        "xaxis": {
         "anchor": "y",
         "domain": [
          0,
          1
         ],
         "title": {
          "text": "epoch"
         }
        },
        "yaxis": {
         "anchor": "x",
         "domain": [
          0,
          1
         ],
         "title": {
          "text": "accuracy"
         }
        }
       }
      },
      "text/html": "<div>                            <div id=\"0c12413f-e65d-4451-8a7c-ee936fdb4767\" class=\"plotly-graph-div\" style=\"height:400px; width:800px;\"></div>            <script type=\"text/javascript\">                require([\"plotly\"], function(Plotly) {                    window.PLOTLYENV=window.PLOTLYENV || {};                                    if (document.getElementById(\"0c12413f-e65d-4451-8a7c-ee936fdb4767\")) {                    Plotly.newPlot(                        \"0c12413f-e65d-4451-8a7c-ee936fdb4767\",                        [{\"hovertemplate\": \"dataset=train<br>epoch=%{x}<br>accuracy=%{y}<extra></extra>\", \"legendgroup\": \"train\", \"line\": {\"color\": \"#636efa\", \"dash\": \"solid\"}, \"mode\": \"lines\", \"name\": \"train\", \"orientation\": \"v\", \"showlegend\": true, \"type\": \"scatter\", \"x\": [10, 20, 30, 40, 50, 60, 70, 80, 90, 100, 110, 120, 130, 140, 150, 160, 170, 180, 190, 200, 210, 220, 230, 240, 250, 260, 270, 280, 290, 300, 310, 320, 330, 340, 350, 360, 370, 380, 390, 400, 410, 420, 430, 440, 450, 460, 470, 480, 490, 500, 510, 520, 530, 540, 550, 560, 570, 580, 590, 600, 610, 620, 630, 640, 650, 660, 670, 680, 690, 700, 710, 720, 730, 740, 750, 760, 770, 780, 790, 800, 810, 820, 830, 840, 850, 860, 870, 880, 890, 900, 910, 920, 930, 940, 950, 960, 970, 980, 990, 1000], \"xaxis\": \"x\", \"y\": [0.559220552444458, 0.5939307808876038, 0.6541154980659485, 0.6818227767944336, 0.7024256587028503, 0.702933132648468, 0.6996853947639465, 0.7012077569961548, 0.713691234588623, 0.7065868377685547, 0.7128793001174927, 0.7087181806564331, 0.7174464464187622, 0.7163300514221191, 0.7206941843032837, 0.7198822498321533, 0.717243492603302, 0.7252613306045532, 0.7223180532455444, 0.7267836928367615, 0.7213031649589539, 0.7199837565422058, 0.7183598875999451, 0.7223180532455444, 0.7286105751991272, 0.7254643440246582, 0.7318583130836487, 0.736019492149353, 0.7375418543815613, 0.7401806712150574, 0.7312493920326233, 0.7373389005661011, 0.7336851954460144, 0.7403836250305176, 0.7430224418640137, 0.7311478853225708, 0.7327717542648315, 0.7348015904426575, 0.7444432973861694, 0.7475895881652832, 0.7449507713317871, 0.7477925419807434, 0.7460671663284302, 0.7453567385673523, 0.741195559501648, 0.7423120141029358, 0.7446463108062744, 0.7538820505142212, 0.7488074898719788, 0.7507358193397522, 0.7516492605209351, 0.74586421251297, 0.7511417865753174, 0.7510402798652649, 0.7523596882820129, 0.757941722869873, 0.7479955554008484, 0.7556074261665344, 0.7597686052322388, 0.7566223740577698, 0.7574343085289001, 0.7539835572242737, 0.7638282775878906, 0.7662640810012817, 0.7605805397033691, 0.7663655877113342, 0.7674819827079773, 0.7689028978347778, 0.7665685415267944, 0.7704252600669861, 0.7683954238891602, 0.7627118825912476, 0.7662640810012817, 0.7682939171791077, 0.7637267708778381, 0.7637267708778381, 0.7566223740577698, 0.7651476860046387, 0.7626103758811951, 0.7682939171791077, 0.7671775221824646, 0.7764132618904114, 0.7689028978347778, 0.7733685374259949, 0.776920735836029, 0.7749924063682556, 0.7741804718971252, 0.7805744409561157, 0.7771236896514893, 0.7736729979515076, 0.7777326703071594, 0.7673804759979248, 0.7807774543762207, 0.780066967010498, 0.7835177183151245, 0.7801684737205505, 0.7805744409561157, 0.7861564755439758, 0.782096803188324, 0.7872729301452637], \"yaxis\": \"y\"}, {\"hovertemplate\": \"dataset=val<br>epoch=%{x}<br>accuracy=%{y}<extra></extra>\", \"legendgroup\": \"val\", \"line\": {\"color\": \"#EF553B\", \"dash\": \"solid\"}, \"mode\": \"lines\", \"name\": \"val\", \"orientation\": \"v\", \"showlegend\": true, \"type\": \"scatter\", \"x\": [10, 20, 30, 40, 50, 60, 70, 80, 90, 100, 110, 120, 130, 140, 150, 160, 170, 180, 190, 200, 210, 220, 230, 240, 250, 260, 270, 280, 290, 300, 310, 320, 330, 340, 350, 360, 370, 380, 390, 400, 410, 420, 430, 440, 450, 460, 470, 480, 490, 500, 510, 520, 530, 540, 550, 560, 570, 580, 590, 600, 610, 620, 630, 640, 650, 660, 670, 680, 690, 700, 710, 720, 730, 740, 750, 760, 770, 780, 790, 800, 810, 820, 830, 840, 850, 860, 870, 880, 890, 900, 910, 920, 930, 940, 950, 960, 970, 980, 990, 1000], \"xaxis\": \"x\", \"y\": [0.6768115758895874, 0.7082815766334534, 0.7385092973709106, 0.7514492869377136, 0.7582815885543823, 0.7169772386550903, 0.7199792861938477, 0.7060041427612305, 0.7366459369659424, 0.7439958453178406, 0.7248446941375732, 0.7011387348175049, 0.7156314849853516, 0.7224637866020203, 0.7350931763648987, 0.7248446941375732, 0.709730863571167, 0.7254658341407776, 0.7197722792625427, 0.7274327278137207, 0.7364389300346375, 0.7316769957542419, 0.7218426465988159, 0.7355072498321533, 0.7487577795982361, 0.7281573414802551, 0.7285714149475098, 0.7172877788543701, 0.7287784814834595, 0.7307453155517578, 0.7277432680130005, 0.7448239922523499, 0.7234989404678345, 0.7329192757606506, 0.7228778600692749, 0.7241200804710388, 0.7249482274055481, 0.7336438894271851, 0.7374741435050964, 0.7384058237075806, 0.7342650294303894, 0.7333333492279053, 0.7419254779815674, 0.7486542463302612, 0.7567287683486938, 0.7547619342803955, 0.7559006214141846, 0.7549689412117004, 0.760869562625885, 0.7633540630340576, 0.7570393085479736, 0.7561076879501343, 0.7584885954856873, 0.7565217614173889, 0.7501035332679749, 0.7564182281494141, 0.7631469964981079, 0.7528985738754272, 0.7373706102371216, 0.761904776096344, 0.7620083093643188, 0.7666666507720947, 0.757453441619873, 0.7698757648468018, 0.7578675150871277, 0.759834349155426, 0.7561076879501343, 0.7591097354888916, 0.7549689412117004, 0.7538302540779114, 0.757660448551178, 0.7638716101646423, 0.7578675150871277, 0.7515528202056885, 0.7621117830276489, 0.7563146948814392, 0.7550724744796753, 0.7524845004081726, 0.7527950406074524, 0.7507246136665344, 0.7567287683486938, 0.7571428418159485, 0.7435817718505859, 0.7577639818191528, 0.7452380657196045, 0.7587991952896118, 0.7404761910438538, 0.7451345920562744, 0.7577639818191528, 0.7507246136665344, 0.7596273422241211, 0.746790885925293, 0.7614907026290894, 0.7504140734672546, 0.7458592057228088, 0.7568323016166687, 0.7494823932647705, 0.7324016690254211, 0.7527950406074524, 0.7388198971748352], \"yaxis\": \"y\"}],                        {\"height\": 400, \"legend\": {\"title\": {\"text\": \"dataset\"}, \"tracegroupgap\": 0}, \"template\": {\"data\": {\"bar\": [{\"error_x\": {\"color\": \"#2a3f5f\"}, \"error_y\": {\"color\": \"#2a3f5f\"}, \"marker\": {\"line\": {\"color\": \"#E5ECF6\", \"width\": 0.5}}, \"type\": \"bar\"}], \"barpolar\": [{\"marker\": {\"line\": {\"color\": \"#E5ECF6\", \"width\": 0.5}}, \"type\": \"barpolar\"}], \"carpet\": [{\"aaxis\": {\"endlinecolor\": \"#2a3f5f\", \"gridcolor\": \"white\", \"linecolor\": \"white\", \"minorgridcolor\": \"white\", \"startlinecolor\": \"#2a3f5f\"}, \"baxis\": {\"endlinecolor\": \"#2a3f5f\", \"gridcolor\": \"white\", \"linecolor\": \"white\", \"minorgridcolor\": \"white\", \"startlinecolor\": \"#2a3f5f\"}, \"type\": \"carpet\"}], \"choropleth\": [{\"colorbar\": {\"outlinewidth\": 0, \"ticks\": \"\"}, \"type\": \"choropleth\"}], \"contour\": [{\"colorbar\": {\"outlinewidth\": 0, \"ticks\": \"\"}, \"colorscale\": [[0.0, \"#0d0887\"], [0.1111111111111111, \"#46039f\"], [0.2222222222222222, \"#7201a8\"], [0.3333333333333333, \"#9c179e\"], [0.4444444444444444, \"#bd3786\"], [0.5555555555555556, \"#d8576b\"], [0.6666666666666666, \"#ed7953\"], [0.7777777777777778, \"#fb9f3a\"], [0.8888888888888888, \"#fdca26\"], [1.0, \"#f0f921\"]], \"type\": \"contour\"}], \"contourcarpet\": [{\"colorbar\": {\"outlinewidth\": 0, \"ticks\": \"\"}, \"type\": \"contourcarpet\"}], \"heatmap\": [{\"colorbar\": {\"outlinewidth\": 0, \"ticks\": \"\"}, \"colorscale\": [[0.0, \"#0d0887\"], [0.1111111111111111, \"#46039f\"], [0.2222222222222222, \"#7201a8\"], [0.3333333333333333, \"#9c179e\"], [0.4444444444444444, \"#bd3786\"], [0.5555555555555556, \"#d8576b\"], [0.6666666666666666, \"#ed7953\"], [0.7777777777777778, \"#fb9f3a\"], [0.8888888888888888, \"#fdca26\"], [1.0, \"#f0f921\"]], \"type\": \"heatmap\"}], \"heatmapgl\": [{\"colorbar\": {\"outlinewidth\": 0, \"ticks\": \"\"}, \"colorscale\": [[0.0, \"#0d0887\"], [0.1111111111111111, \"#46039f\"], [0.2222222222222222, \"#7201a8\"], [0.3333333333333333, \"#9c179e\"], [0.4444444444444444, \"#bd3786\"], [0.5555555555555556, \"#d8576b\"], [0.6666666666666666, \"#ed7953\"], [0.7777777777777778, \"#fb9f3a\"], [0.8888888888888888, \"#fdca26\"], [1.0, \"#f0f921\"]], \"type\": \"heatmapgl\"}], \"histogram\": [{\"marker\": {\"colorbar\": {\"outlinewidth\": 0, \"ticks\": \"\"}}, \"type\": \"histogram\"}], \"histogram2d\": [{\"colorbar\": {\"outlinewidth\": 0, \"ticks\": \"\"}, \"colorscale\": [[0.0, \"#0d0887\"], [0.1111111111111111, \"#46039f\"], [0.2222222222222222, \"#7201a8\"], [0.3333333333333333, \"#9c179e\"], [0.4444444444444444, \"#bd3786\"], [0.5555555555555556, \"#d8576b\"], [0.6666666666666666, \"#ed7953\"], [0.7777777777777778, \"#fb9f3a\"], [0.8888888888888888, \"#fdca26\"], [1.0, \"#f0f921\"]], \"type\": \"histogram2d\"}], \"histogram2dcontour\": [{\"colorbar\": {\"outlinewidth\": 0, \"ticks\": \"\"}, \"colorscale\": [[0.0, \"#0d0887\"], [0.1111111111111111, \"#46039f\"], [0.2222222222222222, \"#7201a8\"], [0.3333333333333333, \"#9c179e\"], [0.4444444444444444, \"#bd3786\"], [0.5555555555555556, \"#d8576b\"], [0.6666666666666666, \"#ed7953\"], [0.7777777777777778, \"#fb9f3a\"], [0.8888888888888888, \"#fdca26\"], [1.0, \"#f0f921\"]], \"type\": \"histogram2dcontour\"}], \"mesh3d\": [{\"colorbar\": {\"outlinewidth\": 0, \"ticks\": \"\"}, \"type\": \"mesh3d\"}], \"parcoords\": [{\"line\": {\"colorbar\": {\"outlinewidth\": 0, \"ticks\": \"\"}}, \"type\": \"parcoords\"}], \"pie\": [{\"automargin\": true, \"type\": \"pie\"}], \"scatter\": [{\"marker\": {\"colorbar\": {\"outlinewidth\": 0, \"ticks\": \"\"}}, \"type\": \"scatter\"}], \"scatter3d\": [{\"line\": {\"colorbar\": {\"outlinewidth\": 0, \"ticks\": \"\"}}, \"marker\": {\"colorbar\": {\"outlinewidth\": 0, \"ticks\": \"\"}}, \"type\": \"scatter3d\"}], \"scattercarpet\": [{\"marker\": {\"colorbar\": {\"outlinewidth\": 0, \"ticks\": \"\"}}, \"type\": \"scattercarpet\"}], \"scattergeo\": [{\"marker\": {\"colorbar\": {\"outlinewidth\": 0, \"ticks\": \"\"}}, \"type\": \"scattergeo\"}], \"scattergl\": [{\"marker\": {\"colorbar\": {\"outlinewidth\": 0, \"ticks\": \"\"}}, \"type\": \"scattergl\"}], \"scattermapbox\": [{\"marker\": {\"colorbar\": {\"outlinewidth\": 0, \"ticks\": \"\"}}, \"type\": \"scattermapbox\"}], \"scatterpolar\": [{\"marker\": {\"colorbar\": {\"outlinewidth\": 0, \"ticks\": \"\"}}, \"type\": \"scatterpolar\"}], \"scatterpolargl\": [{\"marker\": {\"colorbar\": {\"outlinewidth\": 0, \"ticks\": \"\"}}, \"type\": \"scatterpolargl\"}], \"scatterternary\": [{\"marker\": {\"colorbar\": {\"outlinewidth\": 0, \"ticks\": \"\"}}, \"type\": \"scatterternary\"}], \"surface\": [{\"colorbar\": {\"outlinewidth\": 0, \"ticks\": \"\"}, \"colorscale\": [[0.0, \"#0d0887\"], [0.1111111111111111, \"#46039f\"], [0.2222222222222222, \"#7201a8\"], [0.3333333333333333, \"#9c179e\"], [0.4444444444444444, \"#bd3786\"], [0.5555555555555556, \"#d8576b\"], [0.6666666666666666, \"#ed7953\"], [0.7777777777777778, \"#fb9f3a\"], [0.8888888888888888, \"#fdca26\"], [1.0, \"#f0f921\"]], \"type\": \"surface\"}], \"table\": [{\"cells\": {\"fill\": {\"color\": \"#EBF0F8\"}, \"line\": {\"color\": \"white\"}}, \"header\": {\"fill\": {\"color\": \"#C8D4E3\"}, \"line\": {\"color\": \"white\"}}, \"type\": \"table\"}]}, \"layout\": {\"annotationdefaults\": {\"arrowcolor\": \"#2a3f5f\", \"arrowhead\": 0, \"arrowwidth\": 1}, \"autotypenumbers\": \"strict\", \"coloraxis\": {\"colorbar\": {\"outlinewidth\": 0, \"ticks\": \"\"}}, \"colorscale\": {\"diverging\": [[0, \"#8e0152\"], [0.1, \"#c51b7d\"], [0.2, \"#de77ae\"], [0.3, \"#f1b6da\"], [0.4, \"#fde0ef\"], [0.5, \"#f7f7f7\"], [0.6, \"#e6f5d0\"], [0.7, \"#b8e186\"], [0.8, \"#7fbc41\"], [0.9, \"#4d9221\"], [1, \"#276419\"]], \"sequential\": [[0.0, \"#0d0887\"], [0.1111111111111111, \"#46039f\"], [0.2222222222222222, \"#7201a8\"], [0.3333333333333333, \"#9c179e\"], [0.4444444444444444, \"#bd3786\"], [0.5555555555555556, \"#d8576b\"], [0.6666666666666666, \"#ed7953\"], [0.7777777777777778, \"#fb9f3a\"], [0.8888888888888888, \"#fdca26\"], [1.0, \"#f0f921\"]], \"sequentialminus\": [[0.0, \"#0d0887\"], [0.1111111111111111, \"#46039f\"], [0.2222222222222222, \"#7201a8\"], [0.3333333333333333, \"#9c179e\"], [0.4444444444444444, \"#bd3786\"], [0.5555555555555556, \"#d8576b\"], [0.6666666666666666, \"#ed7953\"], [0.7777777777777778, \"#fb9f3a\"], [0.8888888888888888, \"#fdca26\"], [1.0, \"#f0f921\"]]}, \"colorway\": [\"#636efa\", \"#EF553B\", \"#00cc96\", \"#ab63fa\", \"#FFA15A\", \"#19d3f3\", \"#FF6692\", \"#B6E880\", \"#FF97FF\", \"#FECB52\"], \"font\": {\"color\": \"#2a3f5f\"}, \"geo\": {\"bgcolor\": \"white\", \"lakecolor\": \"white\", \"landcolor\": \"#E5ECF6\", \"showlakes\": true, \"showland\": true, \"subunitcolor\": \"white\"}, \"hoverlabel\": {\"align\": \"left\"}, \"hovermode\": \"closest\", \"mapbox\": {\"style\": \"light\"}, \"paper_bgcolor\": \"white\", \"plot_bgcolor\": \"#E5ECF6\", \"polar\": {\"angularaxis\": {\"gridcolor\": \"white\", \"linecolor\": \"white\", \"ticks\": \"\"}, \"bgcolor\": \"#E5ECF6\", \"radialaxis\": {\"gridcolor\": \"white\", \"linecolor\": \"white\", \"ticks\": \"\"}}, \"scene\": {\"xaxis\": {\"backgroundcolor\": \"#E5ECF6\", \"gridcolor\": \"white\", \"gridwidth\": 2, \"linecolor\": \"white\", \"showbackground\": true, \"ticks\": \"\", \"zerolinecolor\": \"white\"}, \"yaxis\": {\"backgroundcolor\": \"#E5ECF6\", \"gridcolor\": \"white\", \"gridwidth\": 2, \"linecolor\": \"white\", \"showbackground\": true, \"ticks\": \"\", \"zerolinecolor\": \"white\"}, \"zaxis\": {\"backgroundcolor\": \"#E5ECF6\", \"gridcolor\": \"white\", \"gridwidth\": 2, \"linecolor\": \"white\", \"showbackground\": true, \"ticks\": \"\", \"zerolinecolor\": \"white\"}}, \"shapedefaults\": {\"line\": {\"color\": \"#2a3f5f\"}}, \"ternary\": {\"aaxis\": {\"gridcolor\": \"white\", \"linecolor\": \"white\", \"ticks\": \"\"}, \"baxis\": {\"gridcolor\": \"white\", \"linecolor\": \"white\", \"ticks\": \"\"}, \"bgcolor\": \"#E5ECF6\", \"caxis\": {\"gridcolor\": \"white\", \"linecolor\": \"white\", \"ticks\": \"\"}}, \"title\": {\"x\": 0.05}, \"xaxis\": {\"automargin\": true, \"gridcolor\": \"white\", \"linecolor\": \"white\", \"ticks\": \"\", \"title\": {\"standoff\": 15}, \"zerolinecolor\": \"white\", \"zerolinewidth\": 2}, \"yaxis\": {\"automargin\": true, \"gridcolor\": \"white\", \"linecolor\": \"white\", \"ticks\": \"\", \"title\": {\"standoff\": 15}, \"zerolinecolor\": \"white\", \"zerolinewidth\": 2}}}, \"title\": {\"text\": \"accuracy\"}, \"width\": 800, \"xaxis\": {\"anchor\": \"y\", \"domain\": [0.0, 1.0], \"title\": {\"text\": \"epoch\"}}, \"yaxis\": {\"anchor\": \"x\", \"domain\": [0.0, 1.0], \"title\": {\"text\": \"accuracy\"}}},                        {\"responsive\": true}                    ).then(function(){\n                            \nvar gd = document.getElementById('0c12413f-e65d-4451-8a7c-ee936fdb4767');\nvar x = new MutationObserver(function (mutations, observer) {{\n        var display = window.getComputedStyle(gd).display;\n        if (!display || display === 'none') {{\n            console.log([gd, 'removed!']);\n            Plotly.purge(gd);\n            observer.disconnect();\n        }}\n}});\n\n// Listen for the removal of the full notebook cells\nvar notebookContainer = gd.closest('#notebook-container');\nif (notebookContainer) {{\n    x.observe(notebookContainer, {childList: true});\n}}\n\n// Listen for the clearing of the current output cell\nvar outputEl = gd.closest('.output');\nif (outputEl) {{\n    x.observe(outputEl, {childList: true});\n}}\n\n                        })                };                });            </script>        </div>"
     },
     "metadata": {}
    },
    {
     "output_type": "execute_result",
     "data": {
      "text/plain": [
       "CNNClassifier(batch_size=1024,\n",
       "              callbacks=[<__main__.PlotLearning object at 0x7f74af14d208>],\n",
       "              loss=<tensorflow.python.keras.losses.BinaryCrossentropy object at 0x7f74af14d400>,\n",
       "              nb_epochs=1000,\n",
       "              optimizer=<tensorflow.python.keras.optimizer_v2.adam.Adam object at 0x7f74af14d438>,\n",
       "              random_state=RandomState(MT19937) at 0x7F74AF1E2468)"
      ]
     },
     "metadata": {},
     "execution_count": 14
    },
    {
     "output_type": "display_data",
     "data": {
      "text/plain": "<Figure size 720x576 with 0 Axes>"
     },
     "metadata": {}
    }
   ],
   "source": [
    "ce_loss = tf.keras.losses.BinaryCrossentropy(\n",
    "    from_logits=False, label_smoothing=0, reduction=\"auto\", name=\"binary_crossentropy\"\n",
    ")\n",
    "\n",
    "optimizer = tf.keras.optimizers.Adam(learning_rate=1e-3)\n",
    "\n",
    "network = CNNClassifier(nb_epochs=1000,\n",
    "                        batch_size=1024,\n",
    "                        verbose=False,\n",
    "                        loss=ce_loss,\n",
    "                        optimizer=optimizer,\n",
    "                        callbacks=[PlotLearning(update_freq=50)])\n",
    "\n",
    "network.fit(Xs_train, ys_train,\n",
    "            validation_X=Xs_test,\n",
    "            validation_y=ys_test)"
   ]
  }
 ]
}