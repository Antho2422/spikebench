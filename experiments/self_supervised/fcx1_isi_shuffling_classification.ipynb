{
 "metadata": {
  "language_info": {
   "codemirror_mode": {
    "name": "ipython",
    "version": 3
   },
   "file_extension": ".py",
   "mimetype": "text/x-python",
   "name": "python",
   "nbconvert_exporter": "python",
   "pygments_lexer": "ipython3",
   "version": "3.7.3-final"
  },
  "orig_nbformat": 2,
  "kernelspec": {
   "name": "pyspike",
   "display_name": "pyspike",
   "language": "python"
  }
 },
 "nbformat": 4,
 "nbformat_minor": 2,
 "cells": [
  {
   "cell_type": "code",
   "execution_count": 14,
   "metadata": {},
   "outputs": [],
   "source": [
    "import sys\n",
    "from copy import deepcopy\n",
    "from pathlib import Path\n",
    "from addict import Dict\n",
    "\n",
    "sys.path.append('../../')"
   ]
  },
  {
   "cell_type": "code",
   "execution_count": 15,
   "metadata": {},
   "outputs": [],
   "source": [
    "import numpy as np\n",
    "import pandas as pd\n",
    "import pylab as plt\n",
    "import seaborn as sns\n",
    "\n",
    "from sklearn.metrics import accuracy_score, roc_auc_score\n",
    "from sklearn.ensemble import RandomForestClassifier\n",
    "from sklearn.model_selection import GroupShuffleSplit\n",
    "\n",
    "from examples.utils.config import Config\n",
    "from examples.utils.dataset_adapters import fcx1_dataset\n",
    "from spikebench import TrainNormalizeTransform, TsfreshVectorizeTransform, TsfreshFeaturePreprocessorPipeline\n",
    "from spikebench.utils import simple_undersampling\n",
    "from spikebench.train_encoders import ISIShuffleTransform\n",
    "from spikebench.mpladeq import prettify, beautify_mpl, boxplot\n",
    "\n",
    "beautify_mpl()"
   ]
  },
  {
   "cell_type": "code",
   "execution_count": 17,
   "metadata": {},
   "outputs": [],
   "source": [
    "config_dict = {\n",
    "    'seed': 0,\n",
    "    'window': 50,\n",
    "    'step': 50,\n",
    "    'scale': True,\n",
    "    'remove_low_variance': True,\n",
    "    'train_subsample_factor': 0.7,\n",
    "    'test_subsample_factor': 0.7,\n",
    "    'feature_set': 'full',\n",
    "    'delimiter': ',',\n",
    "    'dataset': '../../data/fcx1',\n",
    "    'n_trees': 200,\n",
    "}\n",
    "\n",
    "config = Config(config_dict)\n",
    "np.random.seed(config.seed)"
   ]
  },
  {
   "cell_type": "code",
   "execution_count": 18,
   "metadata": {},
   "outputs": [],
   "source": [
    "dataset = Path(config.dataset)\n",
    "wake_spikes = fcx1_dataset(dataset / 'wake.parq')"
   ]
  },
  {
   "cell_type": "code",
   "execution_count": 19,
   "metadata": {},
   "outputs": [],
   "source": [
    "shuffler = ISIShuffleTransform()\n",
    "wake_spikes_shuffled = shuffler.transform(\n",
    "    deepcopy(wake_spikes), format='pandas', delimiter=config.delimiter\n",
    ")"
   ]
  },
  {
   "cell_type": "code",
   "execution_count": 20,
   "metadata": {},
   "outputs": [],
   "source": [
    "group_split = GroupShuffleSplit(n_splits=1, test_size=0.5)\n",
    "X = np.hstack([wake_spikes.series.values, wake_spikes_shuffled.series.values])\n",
    "y = np.hstack([np.ones(wake_spikes.shape[0]), np.zeros(wake_spikes_shuffled.shape[0])])\n",
    "groups = np.hstack([wake_spikes.groups.values, wake_spikes_shuffled.groups.values])"
   ]
  },
  {
   "cell_type": "code",
   "execution_count": 21,
   "metadata": {},
   "outputs": [],
   "source": [
    "for train_index, test_index in group_split.split(X, y, groups):\n",
    "    X_train, X_test = X[train_index], X[test_index]\n",
    "    y_train, y_test = y[train_index], y[test_index]\n",
    "\n",
    "X_train = pd.DataFrame({'series': X_train, 'groups': groups[train_index]})\n",
    "X_test = pd.DataFrame({'series': X_test, 'groups': groups[test_index]})"
   ]
  },
  {
   "cell_type": "code",
   "execution_count": 22,
   "metadata": {},
   "outputs": [],
   "source": [
    "normalizer = TrainNormalizeTransform(\n",
    "    window=config.window, \n",
    "    step=config.step, \n",
    "    n_samples=None\n",
    ")\n",
    "X_train, y_train = normalizer.transform(X_train, y_train, delimiter=config.delimiter)\n",
    "X_test, y_test = normalizer.transform(X_test, y_test, delimiter=config.delimiter)"
   ]
  },
  {
   "cell_type": "code",
   "execution_count": 23,
   "metadata": {},
   "outputs": [
    {
     "output_type": "stream",
     "name": "stderr",
     "text": [
      "Feature Extraction: 100%|██████████| 120/120 [01:33<00:00,  1.28it/s]\n",
      "Feature Extraction: 100%|██████████| 120/120 [01:19<00:00,  1.50it/s]\n"
     ]
    }
   ],
   "source": [
    "vectorizer = TsfreshVectorizeTransform(feature_set=config.feature_set)\n",
    "X_train = vectorizer.transform(X_train)\n",
    "X_test = vectorizer.transform(X_test)"
   ]
  },
  {
   "cell_type": "code",
   "execution_count": 24,
   "metadata": {
    "tags": []
   },
   "outputs": [],
   "source": [
    "preprocessing = TsfreshFeaturePreprocessorPipeline(\n",
    "        do_scaling=config.scale, \n",
    "        remove_low_variance=config.remove_low_variance,\n",
    "    ).construct_pipeline()\n",
    "\n",
    "preprocessing.fit(X_train)\n",
    "X_train = preprocessing.transform(X_train)\n",
    "X_test = preprocessing.transform(X_test)"
   ]
  },
  {
   "cell_type": "code",
   "execution_count": 25,
   "metadata": {},
   "outputs": [
    {
     "output_type": "stream",
     "name": "stdout",
     "text": [
      "Dataset size: train (27342, 389), test (23866, 389)\nAverage target: train 0.5, test 0.5\n"
     ]
    }
   ],
   "source": [
    "print('Dataset size: train {}, test {}'.format(X_train.shape, X_test.shape))\n",
    "print('Average target: train {}, test {}'.format(y_train.mean(), y_test.mean()))"
   ]
  },
  {
   "cell_type": "code",
   "execution_count": 26,
   "metadata": {},
   "outputs": [],
   "source": [
    "num_trials = 10\n",
    "\n",
    "model = RandomForestClassifier(\n",
    "    n_estimators=config.n_trees,\n",
    "    random_state=config.seed,\n",
    "    max_depth=10,\n",
    "    n_jobs=-1\n",
    ")\n",
    "\n",
    "result_table_columns = ['trial', 'feature_set',\n",
    "                        'accuracy_test', 'auc_roc_test',\n",
    "                        'accuracy_train', 'auc_roc_train']\n",
    "results = {key: [] for key in result_table_columns}\n",
    "baseline_feature_names = [\n",
    "    'abs_energy',\n",
    "    'mean',\n",
    "    'median',\n",
    "    'minimum',\n",
    "    'maximum',\n",
    "    'standard_deviation',\n",
    "]\n",
    "baseline_feature_names = ['value__' + name for name\n",
    "                            in baseline_feature_names]\n",
    "metrics_to_collect = {'accuracy': accuracy_score, 'auc_roc': roc_auc_score}\n",
    "\n",
    "for trial_idx in range(num_trials):\n",
    "        X_train_sample_balanced, y_train_sample_balanced = simple_undersampling(\n",
    "            X_train, y_train, subsample_size=config.train_subsample_factor\n",
    "        )\n",
    "        X_test_sample_balanced, y_test_sample_balanced = simple_undersampling(\n",
    "            X_test, y_test, subsample_size=config.test_subsample_factor\n",
    "        )\n",
    "\n",
    "        model.fit(X_train_sample_balanced, y_train_sample_balanced)\n",
    "        for (X, y), dataset_label in [((X_test_sample_balanced, y_test_sample_balanced), 'test'),\n",
    "                                      ((X_train_sample_balanced, y_train_sample_balanced), 'train')]:\n",
    "            for metric_name, metric_fn in metrics_to_collect.items():\n",
    "                model_predictions = model.predict(X) \\\n",
    "                    if metric_name not in ['auc_roc'] else model.predict_proba(X)[:, 1]\n",
    "                results[metric_name + '_' + dataset_label].append(metric_fn(y, model_predictions))\n",
    "        results['feature_set'].append(config.feature_set)\n",
    "        results['trial'].append(trial_idx)\n",
    "\n",
    "        X_train_sample_balanced = X_train_sample_balanced.loc[:, baseline_feature_names]\n",
    "        X_test_sample_balanced = X_test_sample_balanced.loc[:, baseline_feature_names]\n",
    "\n",
    "        model.fit(X_train_sample_balanced, y_train_sample_balanced)\n",
    "\n",
    "        for (X, y), dataset_label in [((X_test_sample_balanced, y_test_sample_balanced), 'test'),\n",
    "                                      ((X_train_sample_balanced, y_train_sample_balanced), 'train')]:\n",
    "            for metric_name, metric_fn in metrics_to_collect.items():\n",
    "                model_predictions = model.predict(X) \\\n",
    "                    if metric_name not in ['auc_roc'] else model.predict_proba(X)[:, 1]\n",
    "                results[metric_name + '_' + dataset_label].append(metric_fn(y, model_predictions))\n",
    "\n",
    "        results['feature_set'].append('simple_baseline')\n",
    "        results['trial'].append(trial_idx)\n",
    "    \n",
    "results = pd.DataFrame(results)"
   ]
  },
  {
   "cell_type": "code",
   "execution_count": 27,
   "metadata": {},
   "outputs": [
    {
     "output_type": "display_data",
     "data": {
      "text/plain": "<Figure size 720x576 with 1 Axes>",
      "image/svg+xml": "<?xml version=\"1.0\" encoding=\"utf-8\" standalone=\"no\"?>\n<!DOCTYPE svg PUBLIC \"-//W3C//DTD SVG 1.1//EN\"\n  \"http://www.w3.org/Graphics/SVG/1.1/DTD/svg11.dtd\">\n<!-- Created with matplotlib (https://matplotlib.org/) -->\n<svg height=\"437.51pt\" version=\"1.1\" viewBox=\"0 0 643.01 437.51\" width=\"643.01pt\" xmlns=\"http://www.w3.org/2000/svg\" xmlns:xlink=\"http://www.w3.org/1999/xlink\">\n <defs>\n  <style type=\"text/css\">\n*{stroke-linecap:butt;stroke-linejoin:round;}\n  </style>\n </defs>\n <g id=\"figure_1\">\n  <g id=\"patch_1\">\n   <path d=\"M 0 437.51 \nL 643.01 437.51 \nL 643.01 0 \nL 0 0 \nz\n\" style=\"fill:#ffffff;\"/>\n  </g>\n  <g id=\"axes_1\">\n   <g id=\"patch_2\">\n    <path d=\"M 71.81 404.88 \nL 629.81 404.88 \nL 629.81 13.2 \nL 71.81 13.2 \nz\n\" style=\"fill:#ffffff;\"/>\n   </g>\n   <g id=\"matplotlib.axis_1\">\n    <g id=\"xtick_1\">\n     <g id=\"line2d_1\">\n      <defs>\n       <path d=\"M 0 0 \nL 0 6 \n\" id=\"m9f2eaf208a\" style=\"stroke:#000000;stroke-width:1.25;\"/>\n      </defs>\n      <g>\n       <use style=\"stroke:#000000;stroke-width:1.25;\" x=\"211.31\" xlink:href=\"#m9f2eaf208a\" y=\"404.88\"/>\n      </g>\n     </g>\n     <g id=\"text_1\">\n      <text style=\"font-family:DejaVu Sans;font-size:16px;font-style:normal;font-weight:normal;text-anchor:middle;\" transform=\"rotate(-0, 211.31, 426.5375)\" x=\"211.31\" y=\"426.5375\">full</text>\n     </g>\n    </g>\n    <g id=\"xtick_2\">\n     <g id=\"line2d_2\">\n      <g>\n       <use style=\"stroke:#000000;stroke-width:1.25;\" x=\"490.31\" xlink:href=\"#m9f2eaf208a\" y=\"404.88\"/>\n      </g>\n     </g>\n     <g id=\"text_2\">\n      <text style=\"font-family:DejaVu Sans;font-size:16px;font-style:normal;font-weight:normal;text-anchor:middle;\" transform=\"rotate(-0, 490.31, 426.5375)\" x=\"490.31\" y=\"426.5375\">simple_baseline</text>\n     </g>\n    </g>\n   </g>\n   <g id=\"matplotlib.axis_2\">\n    <g id=\"ytick_1\">\n     <g id=\"line2d_3\">\n      <defs>\n       <path d=\"M 0 0 \nL -6 0 \n\" id=\"m6ce8e8cc4c\" style=\"stroke:#000000;stroke-width:1.25;\"/>\n      </defs>\n      <g>\n       <use style=\"stroke:#000000;stroke-width:1.25;\" x=\"71.81\" xlink:href=\"#m6ce8e8cc4c\" y=\"387.167529\"/>\n      </g>\n     </g>\n     <g id=\"text_3\">\n      <text style=\"font-family:DejaVu Sans;font-size:16px;font-style:normal;font-weight:normal;text-anchor:end;\" transform=\"rotate(-0, 62.31, 393.246279)\" x=\"62.31\" y=\"393.246279\">0.58</text>\n     </g>\n    </g>\n    <g id=\"ytick_2\">\n     <g id=\"line2d_4\">\n      <g>\n       <use style=\"stroke:#000000;stroke-width:1.25;\" x=\"71.81\" xlink:href=\"#m6ce8e8cc4c\" y=\"328.589972\"/>\n      </g>\n     </g>\n     <g id=\"text_4\">\n      <text style=\"font-family:DejaVu Sans;font-size:16px;font-style:normal;font-weight:normal;text-anchor:end;\" transform=\"rotate(-0, 62.31, 334.668722)\" x=\"62.31\" y=\"334.668722\">0.60</text>\n     </g>\n    </g>\n    <g id=\"ytick_3\">\n     <g id=\"line2d_5\">\n      <g>\n       <use style=\"stroke:#000000;stroke-width:1.25;\" x=\"71.81\" xlink:href=\"#m6ce8e8cc4c\" y=\"270.012414\"/>\n      </g>\n     </g>\n     <g id=\"text_5\">\n      <text style=\"font-family:DejaVu Sans;font-size:16px;font-style:normal;font-weight:normal;text-anchor:end;\" transform=\"rotate(-0, 62.31, 276.091164)\" x=\"62.31\" y=\"276.091164\">0.62</text>\n     </g>\n    </g>\n    <g id=\"ytick_4\">\n     <g id=\"line2d_6\">\n      <g>\n       <use style=\"stroke:#000000;stroke-width:1.25;\" x=\"71.81\" xlink:href=\"#m6ce8e8cc4c\" y=\"211.434856\"/>\n      </g>\n     </g>\n     <g id=\"text_6\">\n      <text style=\"font-family:DejaVu Sans;font-size:16px;font-style:normal;font-weight:normal;text-anchor:end;\" transform=\"rotate(-0, 62.31, 217.513606)\" x=\"62.31\" y=\"217.513606\">0.64</text>\n     </g>\n    </g>\n    <g id=\"ytick_5\">\n     <g id=\"line2d_7\">\n      <g>\n       <use style=\"stroke:#000000;stroke-width:1.25;\" x=\"71.81\" xlink:href=\"#m6ce8e8cc4c\" y=\"152.857299\"/>\n      </g>\n     </g>\n     <g id=\"text_7\">\n      <text style=\"font-family:DejaVu Sans;font-size:16px;font-style:normal;font-weight:normal;text-anchor:end;\" transform=\"rotate(-0, 62.31, 158.936049)\" x=\"62.31\" y=\"158.936049\">0.66</text>\n     </g>\n    </g>\n    <g id=\"ytick_6\">\n     <g id=\"line2d_8\">\n      <g>\n       <use style=\"stroke:#000000;stroke-width:1.25;\" x=\"71.81\" xlink:href=\"#m6ce8e8cc4c\" y=\"94.279741\"/>\n      </g>\n     </g>\n     <g id=\"text_8\">\n      <text style=\"font-family:DejaVu Sans;font-size:16px;font-style:normal;font-weight:normal;text-anchor:end;\" transform=\"rotate(-0, 62.31, 100.358491)\" x=\"62.31\" y=\"100.358491\">0.68</text>\n     </g>\n    </g>\n    <g id=\"ytick_7\">\n     <g id=\"line2d_9\">\n      <g>\n       <use style=\"stroke:#000000;stroke-width:1.25;\" x=\"71.81\" xlink:href=\"#m6ce8e8cc4c\" y=\"35.702183\"/>\n      </g>\n     </g>\n     <g id=\"text_9\">\n      <text style=\"font-family:DejaVu Sans;font-size:16px;font-style:normal;font-weight:normal;text-anchor:end;\" transform=\"rotate(-0, 62.31, 41.780933)\" x=\"62.31\" y=\"41.780933\">0.70</text>\n     </g>\n    </g>\n    <g id=\"text_10\">\n     <text style=\"font-family:DejaVu Sans;font-size:16px;font-style:normal;font-weight:normal;text-anchor:middle;\" transform=\"rotate(-90, 18.9125, 209.04)\" x=\"18.9125\" y=\"209.04\">accuracy_test</text>\n    </g>\n   </g>\n   <g id=\"patch_3\">\n    <path clip-path=\"url(#p7d78d0acd5)\" d=\"M 155.51 57.652112 \nL 267.11 57.652112 \nL 267.11 41.391282 \nL 155.51 41.391282 \nL 155.51 57.652112 \nz\n\" style=\"fill:none;stroke:#000000;stroke-linejoin:miter;stroke-width:2;\"/>\n   </g>\n   <g id=\"patch_4\">\n    <path clip-path=\"url(#p7d78d0acd5)\" d=\"M 434.51 375.899782 \nL 546.11 375.899782 \nL 546.11 355.16832 \nL 434.51 355.16832 \nL 434.51 375.899782 \nz\n\" style=\"fill:none;stroke:#000000;stroke-linejoin:miter;stroke-width:2;\"/>\n   </g>\n   <g id=\"line2d_10\">\n    <path clip-path=\"url(#p7d78d0acd5)\" d=\"M 211.31 57.652112 \nL 211.31 69.573799 \n\" style=\"fill:none;stroke:#000000;stroke-linecap:round;stroke-width:2;\"/>\n   </g>\n   <g id=\"line2d_11\">\n    <path clip-path=\"url(#p7d78d0acd5)\" d=\"M 211.31 41.391282 \nL 211.31 31.003636 \n\" style=\"fill:none;stroke:#000000;stroke-linecap:round;stroke-width:2;\"/>\n   </g>\n   <g id=\"line2d_12\">\n    <path clip-path=\"url(#p7d78d0acd5)\" d=\"M 183.41 69.573799 \nL 239.21 69.573799 \n\" style=\"fill:none;stroke:#000000;stroke-linecap:round;stroke-width:2;\"/>\n   </g>\n   <g id=\"line2d_13\">\n    <path clip-path=\"url(#p7d78d0acd5)\" d=\"M 183.41 31.003636 \nL 239.21 31.003636 \n\" style=\"fill:none;stroke:#000000;stroke-linecap:round;stroke-width:2;\"/>\n   </g>\n   <g id=\"line2d_14\"/>\n   <g id=\"line2d_15\">\n    <path clip-path=\"url(#p7d78d0acd5)\" d=\"M 490.31 375.899782 \nL 490.31 387.076364 \n\" style=\"fill:none;stroke:#000000;stroke-linecap:round;stroke-width:2;\"/>\n   </g>\n   <g id=\"line2d_16\">\n    <path clip-path=\"url(#p7d78d0acd5)\" d=\"M 490.31 355.16832 \nL 490.31 351.311304 \n\" style=\"fill:none;stroke:#000000;stroke-linecap:round;stroke-width:2;\"/>\n   </g>\n   <g id=\"line2d_17\">\n    <path clip-path=\"url(#p7d78d0acd5)\" d=\"M 462.41 387.076364 \nL 518.21 387.076364 \n\" style=\"fill:none;stroke:#000000;stroke-linecap:round;stroke-width:2;\"/>\n   </g>\n   <g id=\"line2d_18\">\n    <path clip-path=\"url(#p7d78d0acd5)\" d=\"M 462.41 351.311304 \nL 518.21 351.311304 \n\" style=\"fill:none;stroke:#000000;stroke-linecap:round;stroke-width:2;\"/>\n   </g>\n   <g id=\"line2d_19\"/>\n   <g id=\"line2d_20\">\n    <path clip-path=\"url(#p7d78d0acd5)\" d=\"M 155.51 50.989993 \nL 267.11 50.989993 \n\" style=\"fill:none;stroke:#000000;stroke-linecap:round;stroke-width:2;\"/>\n   </g>\n   <g id=\"line2d_21\">\n    <path clip-path=\"url(#p7d78d0acd5)\" d=\"M 434.51 361.041504 \nL 546.11 361.041504 \n\" style=\"fill:none;stroke:#000000;stroke-linecap:round;stroke-width:2;\"/>\n   </g>\n   <g id=\"patch_5\">\n    <path d=\"M 71.81 404.88 \nL 71.81 13.2 \n\" style=\"fill:none;stroke:#333333;stroke-linecap:square;stroke-linejoin:miter;stroke-width:1.25;\"/>\n   </g>\n   <g id=\"patch_6\">\n    <path d=\"M 71.81 404.88 \nL 629.81 404.88 \n\" style=\"fill:none;stroke:#333333;stroke-linecap:square;stroke-linejoin:miter;stroke-width:1.25;\"/>\n   </g>\n  </g>\n </g>\n <defs>\n  <clipPath id=\"p7d78d0acd5\">\n   <rect height=\"391.68\" width=\"558\" x=\"71.81\" y=\"13.2\"/>\n  </clipPath>\n </defs>\n</svg>\n",
      "image/png": "[encoded data removed]"
     },
     "metadata": {}
    }
   ],
   "source": [
    "boxplot(x='feature_set', y='accuracy_test', data=results, notch=False)"
   ]
  }
 ]
}