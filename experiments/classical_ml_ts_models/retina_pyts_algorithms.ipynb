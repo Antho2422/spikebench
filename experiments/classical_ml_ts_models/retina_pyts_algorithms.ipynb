{
 "metadata": {
  "language_info": {
   "codemirror_mode": {
    "name": "ipython",
    "version": 3
   },
   "file_extension": ".py",
   "mimetype": "text/x-python",
   "name": "python",
   "nbconvert_exporter": "python",
   "pygments_lexer": "ipython3",
   "version": "3.7.3-final"
  },
  "orig_nbformat": 2,
  "kernelspec": {
   "name": "pyspike",
   "display_name": "pyspike",
   "language": "python"
  }
 },
 "nbformat": 4,
 "nbformat_minor": 2,
 "cells": [
  {
   "cell_type": "code",
   "execution_count": 53,
   "metadata": {},
   "outputs": [],
   "source": [
    "import sys\n",
    "import itertools\n",
    "from pathlib import Path\n",
    "from addict import Dict\n",
    "\n",
    "sys.path.append('../../')"
   ]
  },
  {
   "cell_type": "code",
   "execution_count": 32,
   "metadata": {},
   "outputs": [],
   "source": [
    "import numpy as np\n",
    "import pandas as pd\n",
    "import pylab as plt\n",
    "import seaborn as sns\n",
    "\n",
    "from sklearn.metrics import accuracy_score, roc_auc_score\n",
    "from sklearn.model_selection import GroupShuffleSplit\n",
    "\n",
    "from examples.utils.config import Config\n",
    "from examples.utils.dataset_adapters import retina_dataset\n",
    "from spikebench import TrainNormalizeTransform\n",
    "from spikebench.utils import simple_undersampling\n",
    "from spikebench.mpladeq import prettify, beautify_mpl, boxplot\n",
    "\n",
    "from sklearn.ensemble import RandomForestClassifier\n",
    "from pyts.classification import BOSSVS, SAXVSM\n",
    "from pyts.transformation import ROCKET\n",
    "\n",
    "beautify_mpl()"
   ]
  },
  {
   "cell_type": "code",
   "execution_count": 23,
   "metadata": {},
   "outputs": [],
   "source": [
    "config_dict = {\n",
    "    'seed': 0,\n",
    "    'window': 50,\n",
    "    'step': 50,\n",
    "    'train_subsample_factor': 0.7,\n",
    "    'test_subsample_factor': 0.7,\n",
    "    'delimiter': None,\n",
    "    'dataset': '../../data/retina/mode_paper_data',\n",
    "    'fstate': 'randomly_moving_bar',\n",
    "    'mstate': 'white_noise_checkerboard',\n",
    "}\n",
    "\n",
    "config = Config(config_dict)\n",
    "np.random.seed(config.seed)"
   ]
  },
  {
   "cell_type": "code",
   "execution_count": 24,
   "metadata": {},
   "outputs": [],
   "source": [
    "retinal_spike_data = retina_dataset(config.dataset)"
   ]
  },
  {
   "cell_type": "code",
   "execution_count": 25,
   "metadata": {},
   "outputs": [],
   "source": [
    "group_split = GroupShuffleSplit(n_splits=1, test_size=0.5)\n",
    "X = np.hstack(\n",
    "    [\n",
    "        retinal_spike_data[config.fstate].series.values,\n",
    "        retinal_spike_data[config.mstate].series.values,\n",
    "    ]\n",
    ")\n",
    "y = np.hstack(\n",
    "    [\n",
    "        np.ones(retinal_spike_data[config.fstate].shape[0]),\n",
    "        np.zeros(retinal_spike_data[config.mstate].shape[0]),\n",
    "    ]\n",
    ")\n",
    "groups = np.hstack(\n",
    "    [\n",
    "        retinal_spike_data[config.fstate].groups.values,\n",
    "        retinal_spike_data[config.mstate].groups.values,\n",
    "    ]\n",
    ")"
   ]
  },
  {
   "cell_type": "code",
   "execution_count": 26,
   "metadata": {},
   "outputs": [],
   "source": [
    "for train_index, test_index in group_split.split(X, y, groups):\n",
    "    X_train, X_test = X[train_index], X[test_index]\n",
    "    y_train, y_test = y[train_index], y[test_index]\n",
    "\n",
    "X_train = pd.DataFrame({'series': X_train, 'groups': groups[train_index]})\n",
    "X_test = pd.DataFrame({'series': X_test, 'groups': groups[test_index]})"
   ]
  },
  {
   "cell_type": "code",
   "execution_count": 27,
   "metadata": {},
   "outputs": [],
   "source": [
    "normalizer = TrainNormalizeTransform(\n",
    "    window=config.window, \n",
    "    step=config.step, \n",
    "    n_samples=None\n",
    ")\n",
    "X_train, y_train = normalizer.transform(X_train, y_train, delimiter=config.delimiter)\n",
    "X_test, y_test = normalizer.transform(X_test, y_test, delimiter=config.delimiter)"
   ]
  },
  {
   "cell_type": "code",
   "execution_count": 28,
   "metadata": {},
   "outputs": [
    {
     "output_type": "stream",
     "name": "stdout",
     "text": [
      "Dataset size: train (23187, 50), test (23908, 50)\nAverage target: train 0.7639194376159054, test 0.7755144721432157\n"
     ]
    }
   ],
   "source": [
    "print('Dataset size: train {}, test {}'.format(X_train.shape, X_test.shape))\n",
    "print('Average target: train {}, test {}'.format(y_train.mean(), y_test.mean()))"
   ]
  },
  {
   "cell_type": "code",
   "execution_count": 29,
   "metadata": {},
   "outputs": [],
   "source": [
    "def eval_classifier_scores(models_dict, X_train, X_test, y_train, y_test, config):\n",
    "    scores = {}\n",
    "\n",
    "    X_train, y_train = simple_undersampling(\n",
    "        X_train, y_train, \n",
    "        subsample_size=config.train_subsample_factor\n",
    "    )\n",
    "    X_test, y_test = simple_undersampling(\n",
    "        X_test, y_test, \n",
    "        subsample_size=config.test_subsample_factor\n",
    "    )\n",
    "\n",
    "    for model_name, model in models_dict.items():\n",
    "        print('Training {} model'.format(model_name))\n",
    "        model.fit(X_train, y_train)\n",
    "        print('Evaluating {} model'.format(model_name))\n",
    "        acc_score = accuracy_score(y_test, model.predict(X_test))\n",
    "        scores[model_name] = {'acc': acc_score}\n",
    "\n",
    "    return scores"
   ]
  },
  {
   "cell_type": "code",
   "execution_count": 38,
   "metadata": {},
   "outputs": [],
   "source": [
    "from sklearn.base import BaseEstimator, ClassifierMixin\n",
    "\n",
    "class ROCKETClassifier(BaseEstimator, ClassifierMixin):\n",
    "    def __init__(self, feature_extractor=None, classifier=None):\n",
    "        self.feature_extractor = feature_extractor\n",
    "        self.classifier = classifier\n",
    "\n",
    "    def fit(self, X, y):\n",
    "        X_ = self.feature_extractor.fit_transform(X)\n",
    "        self.classifier.fit(X_, y)\n",
    "        return self\n",
    "\n",
    "    def predict(self, X):\n",
    "        X_ = self.feature_extractor.transform(X)\n",
    "        return self.classifier.predict(X_)"
   ]
  },
  {
   "cell_type": "code",
   "execution_count": 39,
   "metadata": {},
   "outputs": [
    {
     "output_type": "stream",
     "name": "stdout",
     "text": [
      "Training BOSS-VS model\n",
      "Evaluating BOSS-VS model\n",
      "Training SAX-VSM model\n",
      "Evaluating SAX-VSM model\n",
      "Training ROCKET-RF model\n",
      "Evaluating ROCKET-RF model\n",
      "Training BOSS-VS model\n",
      "Evaluating BOSS-VS model\n",
      "Training SAX-VSM model\n",
      "Evaluating SAX-VSM model\n",
      "Training ROCKET-RF model\n",
      "Evaluating ROCKET-RF model\n",
      "Training BOSS-VS model\n",
      "Evaluating BOSS-VS model\n",
      "Training SAX-VSM model\n",
      "Evaluating SAX-VSM model\n",
      "Training ROCKET-RF model\n",
      "Evaluating ROCKET-RF model\n",
      "Training BOSS-VS model\n",
      "Evaluating BOSS-VS model\n",
      "Training SAX-VSM model\n",
      "Evaluating SAX-VSM model\n",
      "Training ROCKET-RF model\n",
      "Evaluating ROCKET-RF model\n",
      "Training BOSS-VS model\n",
      "Evaluating BOSS-VS model\n",
      "Training SAX-VSM model\n",
      "Evaluating SAX-VSM model\n",
      "Training ROCKET-RF model\n",
      "Evaluating ROCKET-RF model\n",
      "Training BOSS-VS model\n",
      "Evaluating BOSS-VS model\n",
      "Training SAX-VSM model\n",
      "Evaluating SAX-VSM model\n",
      "Training ROCKET-RF model\n",
      "Evaluating ROCKET-RF model\n",
      "Training BOSS-VS model\n",
      "Evaluating BOSS-VS model\n",
      "Training SAX-VSM model\n",
      "Evaluating SAX-VSM model\n",
      "Training ROCKET-RF model\n",
      "Evaluating ROCKET-RF model\n",
      "Training BOSS-VS model\n",
      "Evaluating BOSS-VS model\n",
      "Training SAX-VSM model\n",
      "Evaluating SAX-VSM model\n",
      "Training ROCKET-RF model\n",
      "Evaluating ROCKET-RF model\n",
      "Training BOSS-VS model\n",
      "Evaluating BOSS-VS model\n",
      "Training SAX-VSM model\n",
      "Evaluating SAX-VSM model\n",
      "Training ROCKET-RF model\n",
      "Evaluating ROCKET-RF model\n",
      "Training BOSS-VS model\n",
      "Evaluating BOSS-VS model\n",
      "Training SAX-VSM model\n",
      "Evaluating SAX-VSM model\n",
      "Training ROCKET-RF model\n",
      "Evaluating ROCKET-RF model\n"
     ]
    }
   ],
   "source": [
    "num_trials = 10\n",
    "\n",
    "models_dict = {\n",
    "    'BOSS-VS': BOSSVS(window_size=30),\n",
    "    'SAX-VSM': SAXVSM(window_size=20, sublinear_tf=False, use_idf=False),\n",
    "    'ROCKET-RF': ROCKETClassifier(feature_extractor=ROCKET(n_kernels=500, random_state=42),\n",
    "                                  classifier=RandomForestClassifier(n_estimators=200, random_state=42, n_jobs=-1))\n",
    "    # 'Shapelets': LearningShapelets(random_state=0, tol=0.1),\n",
    "}\n",
    "\n",
    "classifier_scores = Dict()\n",
    "for model_name in models_dict:\n",
    "    classifier_scores[model_name].acc = []\n",
    "    \n",
    "for trial_idx in range(num_trials):\n",
    "    print('Running trial # ', trial_idx)\n",
    "    scores = eval_classifier_scores(models_dict, pd.DataFrame(X_train), pd.DataFrame(X_test), \n",
    "                                    y_train, y_test, config)\n",
    "    for model_name in scores:\n",
    "        classifier_scores[model_name].acc.append(scores[model_name]['acc'])    "
   ]
  },
  {
   "cell_type": "code",
   "execution_count": 55,
   "metadata": {},
   "outputs": [
    {
     "output_type": "display_data",
     "data": {
      "text/plain": "<Figure size 720x576 with 1 Axes>",
      "image/svg+xml": "<?xml version=\"1.0\" encoding=\"utf-8\" standalone=\"no\"?>\n<!DOCTYPE svg PUBLIC \"-//W3C//DTD SVG 1.1//EN\"\n  \"http://www.w3.org/Graphics/SVG/1.1/DTD/svg11.dtd\">\n<!-- Created with matplotlib (https://matplotlib.org/) -->\n<svg height=\"437.065pt\" version=\"1.1\" viewBox=\"0 0 643.01 437.065\" width=\"643.01pt\" xmlns=\"http://www.w3.org/2000/svg\" xmlns:xlink=\"http://www.w3.org/1999/xlink\">\n <defs>\n  <style type=\"text/css\">\n*{stroke-linecap:butt;stroke-linejoin:round;}\n  </style>\n </defs>\n <g id=\"figure_1\">\n  <g id=\"patch_1\">\n   <path d=\"M 0 437.065 \nL 643.01 437.065 \nL 643.01 0 \nL 0 0 \nz\n\" style=\"fill:#ffffff;\"/>\n  </g>\n  <g id=\"axes_1\">\n   <g id=\"patch_2\">\n    <path d=\"M 71.81 404.88 \nL 629.81 404.88 \nL 629.81 13.2 \nL 71.81 13.2 \nz\n\" style=\"fill:#ffffff;\"/>\n   </g>\n   <g id=\"matplotlib.axis_1\">\n    <g id=\"xtick_1\">\n     <g id=\"line2d_1\">\n      <defs>\n       <path d=\"M 0 0 \nL 0 6 \n\" id=\"m908e6093ee\" style=\"stroke:#000000;stroke-width:1.25;\"/>\n      </defs>\n      <g>\n       <use style=\"stroke:#000000;stroke-width:1.25;\" x=\"164.81\" xlink:href=\"#m908e6093ee\" y=\"404.88\"/>\n      </g>\n     </g>\n     <g id=\"text_1\">\n      <text style=\"font-family:DejaVu Sans;font-size:16px;font-style:normal;font-weight:normal;text-anchor:middle;\" transform=\"rotate(-0, 164.81, 426.5375)\" x=\"164.81\" y=\"426.5375\">BOSS-VS</text>\n     </g>\n    </g>\n    <g id=\"xtick_2\">\n     <g id=\"line2d_2\">\n      <g>\n       <use style=\"stroke:#000000;stroke-width:1.25;\" x=\"350.81\" xlink:href=\"#m908e6093ee\" y=\"404.88\"/>\n      </g>\n     </g>\n     <g id=\"text_2\">\n      <text style=\"font-family:DejaVu Sans;font-size:16px;font-style:normal;font-weight:normal;text-anchor:middle;\" transform=\"rotate(-0, 350.81, 426.5375)\" x=\"350.81\" y=\"426.5375\">SAX-VSM</text>\n     </g>\n    </g>\n    <g id=\"xtick_3\">\n     <g id=\"line2d_3\">\n      <g>\n       <use style=\"stroke:#000000;stroke-width:1.25;\" x=\"536.81\" xlink:href=\"#m908e6093ee\" y=\"404.88\"/>\n      </g>\n     </g>\n     <g id=\"text_3\">\n      <text style=\"font-family:DejaVu Sans;font-size:16px;font-style:normal;font-weight:normal;text-anchor:middle;\" transform=\"rotate(-0, 536.81, 426.5375)\" x=\"536.81\" y=\"426.5375\">ROCKET-RF</text>\n     </g>\n    </g>\n   </g>\n   <g id=\"matplotlib.axis_2\">\n    <g id=\"ytick_1\">\n     <g id=\"line2d_4\">\n      <defs>\n       <path d=\"M 0 0 \nL -6 0 \n\" id=\"m8d1742f4e7\" style=\"stroke:#000000;stroke-width:1.25;\"/>\n      </defs>\n      <g>\n       <use style=\"stroke:#000000;stroke-width:1.25;\" x=\"71.81\" xlink:href=\"#m8d1742f4e7\" y=\"381.639683\"/>\n      </g>\n     </g>\n     <g id=\"text_4\">\n      <text style=\"font-family:DejaVu Sans;font-size:16px;font-style:normal;font-weight:normal;text-anchor:end;\" transform=\"rotate(-0, 62.31, 387.718433)\" x=\"62.31\" y=\"387.718433\">0.40</text>\n     </g>\n    </g>\n    <g id=\"ytick_2\">\n     <g id=\"line2d_5\">\n      <g>\n       <use style=\"stroke:#000000;stroke-width:1.25;\" x=\"71.81\" xlink:href=\"#m8d1742f4e7\" y=\"336.754206\"/>\n      </g>\n     </g>\n     <g id=\"text_5\">\n      <text style=\"font-family:DejaVu Sans;font-size:16px;font-style:normal;font-weight:normal;text-anchor:end;\" transform=\"rotate(-0, 62.31, 342.832956)\" x=\"62.31\" y=\"342.832956\">0.42</text>\n     </g>\n    </g>\n    <g id=\"ytick_3\">\n     <g id=\"line2d_6\">\n      <g>\n       <use style=\"stroke:#000000;stroke-width:1.25;\" x=\"71.81\" xlink:href=\"#m8d1742f4e7\" y=\"291.86873\"/>\n      </g>\n     </g>\n     <g id=\"text_6\">\n      <text style=\"font-family:DejaVu Sans;font-size:16px;font-style:normal;font-weight:normal;text-anchor:end;\" transform=\"rotate(-0, 62.31, 297.94748)\" x=\"62.31\" y=\"297.94748\">0.44</text>\n     </g>\n    </g>\n    <g id=\"ytick_4\">\n     <g id=\"line2d_7\">\n      <g>\n       <use style=\"stroke:#000000;stroke-width:1.25;\" x=\"71.81\" xlink:href=\"#m8d1742f4e7\" y=\"246.983253\"/>\n      </g>\n     </g>\n     <g id=\"text_7\">\n      <text style=\"font-family:DejaVu Sans;font-size:16px;font-style:normal;font-weight:normal;text-anchor:end;\" transform=\"rotate(-0, 62.31, 253.062003)\" x=\"62.31\" y=\"253.062003\">0.46</text>\n     </g>\n    </g>\n    <g id=\"ytick_5\">\n     <g id=\"line2d_8\">\n      <g>\n       <use style=\"stroke:#000000;stroke-width:1.25;\" x=\"71.81\" xlink:href=\"#m8d1742f4e7\" y=\"202.097777\"/>\n      </g>\n     </g>\n     <g id=\"text_8\">\n      <text style=\"font-family:DejaVu Sans;font-size:16px;font-style:normal;font-weight:normal;text-anchor:end;\" transform=\"rotate(-0, 62.31, 208.176527)\" x=\"62.31\" y=\"208.176527\">0.48</text>\n     </g>\n    </g>\n    <g id=\"ytick_6\">\n     <g id=\"line2d_9\">\n      <g>\n       <use style=\"stroke:#000000;stroke-width:1.25;\" x=\"71.81\" xlink:href=\"#m8d1742f4e7\" y=\"157.2123\"/>\n      </g>\n     </g>\n     <g id=\"text_9\">\n      <text style=\"font-family:DejaVu Sans;font-size:16px;font-style:normal;font-weight:normal;text-anchor:end;\" transform=\"rotate(-0, 62.31, 163.29105)\" x=\"62.31\" y=\"163.29105\">0.50</text>\n     </g>\n    </g>\n    <g id=\"ytick_7\">\n     <g id=\"line2d_10\">\n      <g>\n       <use style=\"stroke:#000000;stroke-width:1.25;\" x=\"71.81\" xlink:href=\"#m8d1742f4e7\" y=\"112.326824\"/>\n      </g>\n     </g>\n     <g id=\"text_10\">\n      <text style=\"font-family:DejaVu Sans;font-size:16px;font-style:normal;font-weight:normal;text-anchor:end;\" transform=\"rotate(-0, 62.31, 118.405574)\" x=\"62.31\" y=\"118.405574\">0.52</text>\n     </g>\n    </g>\n    <g id=\"ytick_8\">\n     <g id=\"line2d_11\">\n      <g>\n       <use style=\"stroke:#000000;stroke-width:1.25;\" x=\"71.81\" xlink:href=\"#m8d1742f4e7\" y=\"67.441347\"/>\n      </g>\n     </g>\n     <g id=\"text_11\">\n      <text style=\"font-family:DejaVu Sans;font-size:16px;font-style:normal;font-weight:normal;text-anchor:end;\" transform=\"rotate(-0, 62.31, 73.520097)\" x=\"62.31\" y=\"73.520097\">0.54</text>\n     </g>\n    </g>\n    <g id=\"ytick_9\">\n     <g id=\"line2d_12\">\n      <g>\n       <use style=\"stroke:#000000;stroke-width:1.25;\" x=\"71.81\" xlink:href=\"#m8d1742f4e7\" y=\"22.555871\"/>\n      </g>\n     </g>\n     <g id=\"text_12\">\n      <text style=\"font-family:DejaVu Sans;font-size:16px;font-style:normal;font-weight:normal;text-anchor:end;\" transform=\"rotate(-0, 62.31, 28.634621)\" x=\"62.31\" y=\"28.634621\">0.56</text>\n     </g>\n    </g>\n    <g id=\"text_13\">\n     <text style=\"font-family:DejaVu Sans;font-size:16px;font-style:normal;font-weight:normal;text-anchor:middle;\" transform=\"rotate(-90, 19.3575, 209.04)\" x=\"19.3575\" y=\"209.04\">accuracy score</text>\n    </g>\n   </g>\n   <g id=\"patch_3\">\n    <path clip-path=\"url(#p7f4dc9f298)\" d=\"M 127.61 361.013154 \nL 202.01 361.013154 \nL 202.01 339.206687 \nL 127.61 339.206687 \nL 127.61 361.013154 \nz\n\" style=\"fill:none;stroke:#000000;stroke-linejoin:miter;stroke-width:2;\"/>\n   </g>\n   <g id=\"patch_4\">\n    <path clip-path=\"url(#p7f4dc9f298)\" d=\"M 313.61 47.806565 \nL 388.01 47.806565 \nL 388.01 34.662941 \nL 313.61 34.662941 \nL 313.61 47.806565 \nz\n\" style=\"fill:none;stroke:#000000;stroke-linejoin:miter;stroke-width:2;\"/>\n   </g>\n   <g id=\"patch_5\">\n    <path clip-path=\"url(#p7f4dc9f298)\" d=\"M 499.61 147.653301 \nL 574.01 147.653301 \nL 574.01 105.160561 \nL 499.61 105.160561 \nL 499.61 147.653301 \nz\n\" style=\"fill:none;stroke:#000000;stroke-linejoin:miter;stroke-width:2;\"/>\n   </g>\n   <g id=\"line2d_13\">\n    <path clip-path=\"url(#p7f4dc9f298)\" d=\"M 164.81 361.013154 \nL 164.81 387.076364 \n\" style=\"fill:none;stroke:#000000;stroke-linecap:round;stroke-width:2;\"/>\n   </g>\n   <g id=\"line2d_14\">\n    <path clip-path=\"url(#p7f4dc9f298)\" d=\"M 164.81 339.206687 \nL 164.81 322.553118 \n\" style=\"fill:none;stroke:#000000;stroke-linecap:round;stroke-width:2;\"/>\n   </g>\n   <g id=\"line2d_15\">\n    <path clip-path=\"url(#p7f4dc9f298)\" d=\"M 146.21 387.076364 \nL 183.41 387.076364 \n\" style=\"fill:none;stroke:#000000;stroke-linecap:round;stroke-width:2;\"/>\n   </g>\n   <g id=\"line2d_16\">\n    <path clip-path=\"url(#p7f4dc9f298)\" d=\"M 146.21 322.553118 \nL 183.41 322.553118 \n\" style=\"fill:none;stroke:#000000;stroke-linecap:round;stroke-width:2;\"/>\n   </g>\n   <g id=\"line2d_17\">\n    <defs>\n     <path d=\"M -0 3.535534 \nL 2.12132 0 \nL -0 -3.535534 \nL -2.12132 -0 \nz\n\" id=\"m525ce2f0c4\" style=\"stroke:#000000;stroke-linejoin:miter;\"/>\n    </defs>\n    <g clip-path=\"url(#p7f4dc9f298)\">\n     <use style=\"stroke:#000000;stroke-linejoin:miter;\" x=\"164.81\" xlink:href=\"#m525ce2f0c4\" y=\"304.629994\"/>\n    </g>\n   </g>\n   <g id=\"line2d_18\">\n    <path clip-path=\"url(#p7f4dc9f298)\" d=\"M 350.81 47.806565 \nL 350.81 60.875509 \n\" style=\"fill:none;stroke:#000000;stroke-linecap:round;stroke-width:2;\"/>\n   </g>\n   <g id=\"line2d_19\">\n    <path clip-path=\"url(#p7f4dc9f298)\" d=\"M 350.81 34.662941 \nL 350.81 31.003636 \n\" style=\"fill:none;stroke:#000000;stroke-linecap:round;stroke-width:2;\"/>\n   </g>\n   <g id=\"line2d_20\">\n    <path clip-path=\"url(#p7f4dc9f298)\" d=\"M 332.21 60.875509 \nL 369.41 60.875509 \n\" style=\"fill:none;stroke:#000000;stroke-linecap:round;stroke-width:2;\"/>\n   </g>\n   <g id=\"line2d_21\">\n    <path clip-path=\"url(#p7f4dc9f298)\" d=\"M 332.21 31.003636 \nL 369.41 31.003636 \n\" style=\"fill:none;stroke:#000000;stroke-linecap:round;stroke-width:2;\"/>\n   </g>\n   <g id=\"line2d_22\">\n    <g clip-path=\"url(#p7f4dc9f298)\">\n     <use style=\"stroke:#000000;stroke-linejoin:miter;\" x=\"350.81\" xlink:href=\"#m525ce2f0c4\" y=\"70.434509\"/>\n    </g>\n   </g>\n   <g id=\"line2d_23\">\n    <path clip-path=\"url(#p7f4dc9f298)\" d=\"M 536.81 147.653301 \nL 536.81 191.714314 \n\" style=\"fill:none;stroke:#000000;stroke-linecap:round;stroke-width:2;\"/>\n   </g>\n   <g id=\"line2d_24\">\n    <path clip-path=\"url(#p7f4dc9f298)\" d=\"M 536.81 105.160561 \nL 536.81 53.108822 \n\" style=\"fill:none;stroke:#000000;stroke-linecap:round;stroke-width:2;\"/>\n   </g>\n   <g id=\"line2d_25\">\n    <path clip-path=\"url(#p7f4dc9f298)\" d=\"M 518.21 191.714314 \nL 555.41 191.714314 \n\" style=\"fill:none;stroke:#000000;stroke-linecap:round;stroke-width:2;\"/>\n   </g>\n   <g id=\"line2d_26\">\n    <path clip-path=\"url(#p7f4dc9f298)\" d=\"M 518.21 53.108822 \nL 555.41 53.108822 \n\" style=\"fill:none;stroke:#000000;stroke-linecap:round;stroke-width:2;\"/>\n   </g>\n   <g id=\"line2d_27\"/>\n   <g id=\"line2d_28\">\n    <path clip-path=\"url(#p7f4dc9f298)\" d=\"M 127.61 353.171788 \nL 202.01 353.171788 \n\" style=\"fill:none;stroke:#000000;stroke-linecap:round;stroke-width:2;\"/>\n   </g>\n   <g id=\"line2d_29\">\n    <path clip-path=\"url(#p7f4dc9f298)\" d=\"M 313.61 40.114558 \nL 388.01 40.114558 \n\" style=\"fill:none;stroke:#000000;stroke-linecap:round;stroke-width:2;\"/>\n   </g>\n   <g id=\"line2d_30\">\n    <path clip-path=\"url(#p7f4dc9f298)\" d=\"M 499.61 125.249396 \nL 574.01 125.249396 \n\" style=\"fill:none;stroke:#000000;stroke-linecap:round;stroke-width:2;\"/>\n   </g>\n   <g id=\"patch_6\">\n    <path d=\"M 71.81 404.88 \nL 71.81 13.2 \n\" style=\"fill:none;stroke:#333333;stroke-linecap:square;stroke-linejoin:miter;stroke-width:1.25;\"/>\n   </g>\n   <g id=\"patch_7\">\n    <path d=\"M 71.81 404.88 \nL 629.81 404.88 \n\" style=\"fill:none;stroke:#333333;stroke-linecap:square;stroke-linejoin:miter;stroke-width:1.25;\"/>\n   </g>\n  </g>\n </g>\n <defs>\n  <clipPath id=\"p7f4dc9f298\">\n   <rect height=\"391.68\" width=\"558\" x=\"71.81\" y=\"13.2\"/>\n  </clipPath>\n </defs>\n</svg>\n",
      "image/png": "[encoded data removed]"
     },
     "metadata": {}
    }
   ],
   "source": [
    "scores_df = pd.DataFrame({\n",
    "    'accuracy score': list(itertools.chain(*[classifier_scores[model_name].acc \n",
    "                                             for model_name in models_dict])),\n",
    "    'model': list(itertools.chain(*[[model_name] * len(classifier_scores[model_name].acc) \n",
    "                                    for model_name in models_dict])),\n",
    "})\n",
    "    \n",
    "boxplot(x='model', y='accuracy score', data=scores_df, notch=False)"
   ]
  },
  {
   "cell_type": "code",
   "execution_count": null,
   "metadata": {},
   "outputs": [],
   "source": []
  }
 ]
}